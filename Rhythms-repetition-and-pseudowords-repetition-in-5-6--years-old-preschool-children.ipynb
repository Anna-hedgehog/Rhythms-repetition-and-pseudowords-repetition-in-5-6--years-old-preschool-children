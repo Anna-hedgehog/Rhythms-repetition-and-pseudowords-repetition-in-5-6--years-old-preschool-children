{
 "cells": [
  {
   "cell_type": "code",
   "execution_count": 1,
   "metadata": {},
   "outputs": [],
   "source": [
    "import pandas as pd\n",
    "import matplotlib.pyplot as plt\n",
    "import numpy as np\n",
    "from scipy import stats\n",
    "from scipy.stats import shapiro"
   ]
  },
  {
   "cell_type": "markdown",
   "metadata": {},
   "source": [
    "Подключаем таблицу:"
   ]
  },
  {
   "cell_type": "code",
   "execution_count": 4,
   "metadata": {},
   "outputs": [
    {
     "data": {
      "text/html": [
       "<div>\n",
       "<style scoped>\n",
       "    .dataframe tbody tr th:only-of-type {\n",
       "        vertical-align: middle;\n",
       "    }\n",
       "\n",
       "    .dataframe tbody tr th {\n",
       "        vertical-align: top;\n",
       "    }\n",
       "\n",
       "    .dataframe thead th {\n",
       "        text-align: right;\n",
       "    }\n",
       "</style>\n",
       "<table border=\"1\" class=\"dataframe\">\n",
       "  <thead>\n",
       "    <tr style=\"text-align: right;\">\n",
       "      <th></th>\n",
       "      <th>ID</th>\n",
       "      <th>age_month</th>\n",
       "      <th>gender</th>\n",
       "      <th>hand</th>\n",
       "      <th>Raven</th>\n",
       "      <th>RuTOPP_3_NWR</th>\n",
       "      <th>Rythms_repeat</th>\n",
       "      <th>Rythms_instr</th>\n",
       "    </tr>\n",
       "  </thead>\n",
       "  <tbody>\n",
       "    <tr>\n",
       "      <th>0</th>\n",
       "      <td>S02</td>\n",
       "      <td>71</td>\n",
       "      <td>m</td>\n",
       "      <td>правша</td>\n",
       "      <td>23</td>\n",
       "      <td>0.78</td>\n",
       "      <td>0.900</td>\n",
       "      <td>0.90</td>\n",
       "    </tr>\n",
       "    <tr>\n",
       "      <th>1</th>\n",
       "      <td>A01</td>\n",
       "      <td>71</td>\n",
       "      <td>f</td>\n",
       "      <td>правша</td>\n",
       "      <td>13</td>\n",
       "      <td>0.58</td>\n",
       "      <td>0.900</td>\n",
       "      <td>0.50</td>\n",
       "    </tr>\n",
       "    <tr>\n",
       "      <th>2</th>\n",
       "      <td>T02</td>\n",
       "      <td>74</td>\n",
       "      <td>m</td>\n",
       "      <td>амб</td>\n",
       "      <td>20</td>\n",
       "      <td>0.70</td>\n",
       "      <td>0.900</td>\n",
       "      <td>NaN</td>\n",
       "    </tr>\n",
       "    <tr>\n",
       "      <th>3</th>\n",
       "      <td>A02</td>\n",
       "      <td>83</td>\n",
       "      <td>m</td>\n",
       "      <td>правша</td>\n",
       "      <td>24</td>\n",
       "      <td>0.79</td>\n",
       "      <td>0.900</td>\n",
       "      <td>0.70</td>\n",
       "    </tr>\n",
       "    <tr>\n",
       "      <th>4</th>\n",
       "      <td>T03</td>\n",
       "      <td>70</td>\n",
       "      <td>f</td>\n",
       "      <td>правша</td>\n",
       "      <td>29</td>\n",
       "      <td>0.75</td>\n",
       "      <td>0.950</td>\n",
       "      <td>1.00</td>\n",
       "    </tr>\n",
       "    <tr>\n",
       "      <th>5</th>\n",
       "      <td>T05</td>\n",
       "      <td>83</td>\n",
       "      <td>m</td>\n",
       "      <td>правша</td>\n",
       "      <td>30</td>\n",
       "      <td>0.66</td>\n",
       "      <td>1.000</td>\n",
       "      <td>1.00</td>\n",
       "    </tr>\n",
       "    <tr>\n",
       "      <th>6</th>\n",
       "      <td>T06</td>\n",
       "      <td>80</td>\n",
       "      <td>m</td>\n",
       "      <td>правша</td>\n",
       "      <td>26</td>\n",
       "      <td>0.91</td>\n",
       "      <td>0.900</td>\n",
       "      <td>1.00</td>\n",
       "    </tr>\n",
       "    <tr>\n",
       "      <th>7</th>\n",
       "      <td>T08</td>\n",
       "      <td>76</td>\n",
       "      <td>f</td>\n",
       "      <td>правша</td>\n",
       "      <td>12</td>\n",
       "      <td>0.83</td>\n",
       "      <td>0.850</td>\n",
       "      <td>1.00</td>\n",
       "    </tr>\n",
       "    <tr>\n",
       "      <th>8</th>\n",
       "      <td>A03</td>\n",
       "      <td>76</td>\n",
       "      <td>f</td>\n",
       "      <td>правша</td>\n",
       "      <td>19</td>\n",
       "      <td>0.91</td>\n",
       "      <td>0.950</td>\n",
       "      <td>1.00</td>\n",
       "    </tr>\n",
       "    <tr>\n",
       "      <th>9</th>\n",
       "      <td>A04</td>\n",
       "      <td>74</td>\n",
       "      <td>m</td>\n",
       "      <td>правша</td>\n",
       "      <td>30</td>\n",
       "      <td>0.91</td>\n",
       "      <td>1.000</td>\n",
       "      <td>1.00</td>\n",
       "    </tr>\n",
       "    <tr>\n",
       "      <th>10</th>\n",
       "      <td>A05</td>\n",
       "      <td>71</td>\n",
       "      <td>m</td>\n",
       "      <td>правша</td>\n",
       "      <td>22</td>\n",
       "      <td>0.83</td>\n",
       "      <td>1.000</td>\n",
       "      <td>1.00</td>\n",
       "    </tr>\n",
       "    <tr>\n",
       "      <th>11</th>\n",
       "      <td>T09</td>\n",
       "      <td>76</td>\n",
       "      <td>m</td>\n",
       "      <td>левша</td>\n",
       "      <td>19</td>\n",
       "      <td>0.75</td>\n",
       "      <td>0.900</td>\n",
       "      <td>1.00</td>\n",
       "    </tr>\n",
       "    <tr>\n",
       "      <th>12</th>\n",
       "      <td>A06</td>\n",
       "      <td>68</td>\n",
       "      <td>f</td>\n",
       "      <td>левша</td>\n",
       "      <td>26</td>\n",
       "      <td>0.83</td>\n",
       "      <td>0.900</td>\n",
       "      <td>1.00</td>\n",
       "    </tr>\n",
       "    <tr>\n",
       "      <th>13</th>\n",
       "      <td>A07</td>\n",
       "      <td>70</td>\n",
       "      <td>m</td>\n",
       "      <td>правша</td>\n",
       "      <td>18</td>\n",
       "      <td>0.79</td>\n",
       "      <td>0.950</td>\n",
       "      <td>0.60</td>\n",
       "    </tr>\n",
       "    <tr>\n",
       "      <th>14</th>\n",
       "      <td>A08</td>\n",
       "      <td>76</td>\n",
       "      <td>m</td>\n",
       "      <td>амб</td>\n",
       "      <td>21</td>\n",
       "      <td>0.83</td>\n",
       "      <td>0.900</td>\n",
       "      <td>1.00</td>\n",
       "    </tr>\n",
       "    <tr>\n",
       "      <th>15</th>\n",
       "      <td>T10</td>\n",
       "      <td>81</td>\n",
       "      <td>m</td>\n",
       "      <td>правша</td>\n",
       "      <td>27</td>\n",
       "      <td>0.91</td>\n",
       "      <td>0.575</td>\n",
       "      <td>0.70</td>\n",
       "    </tr>\n",
       "    <tr>\n",
       "      <th>16</th>\n",
       "      <td>T11</td>\n",
       "      <td>72</td>\n",
       "      <td>m</td>\n",
       "      <td>правша</td>\n",
       "      <td>17</td>\n",
       "      <td>0.70</td>\n",
       "      <td>0.850</td>\n",
       "      <td>1.00</td>\n",
       "    </tr>\n",
       "    <tr>\n",
       "      <th>17</th>\n",
       "      <td>A10</td>\n",
       "      <td>80</td>\n",
       "      <td>m</td>\n",
       "      <td>правша</td>\n",
       "      <td>32</td>\n",
       "      <td>0.87</td>\n",
       "      <td>1.000</td>\n",
       "      <td>1.00</td>\n",
       "    </tr>\n",
       "    <tr>\n",
       "      <th>18</th>\n",
       "      <td>А11</td>\n",
       "      <td>73</td>\n",
       "      <td>m</td>\n",
       "      <td>амб</td>\n",
       "      <td>26</td>\n",
       "      <td>0.87</td>\n",
       "      <td>1.000</td>\n",
       "      <td>1.00</td>\n",
       "    </tr>\n",
       "    <tr>\n",
       "      <th>19</th>\n",
       "      <td>T13</td>\n",
       "      <td>70</td>\n",
       "      <td>m</td>\n",
       "      <td>правша</td>\n",
       "      <td>23</td>\n",
       "      <td>0.58</td>\n",
       "      <td>0.800</td>\n",
       "      <td>1.00</td>\n",
       "    </tr>\n",
       "    <tr>\n",
       "      <th>20</th>\n",
       "      <td>А12</td>\n",
       "      <td>71</td>\n",
       "      <td>m</td>\n",
       "      <td>правша</td>\n",
       "      <td>19</td>\n",
       "      <td>0.87</td>\n",
       "      <td>1.000</td>\n",
       "      <td>0.90</td>\n",
       "    </tr>\n",
       "    <tr>\n",
       "      <th>21</th>\n",
       "      <td>T14</td>\n",
       "      <td>78</td>\n",
       "      <td>m</td>\n",
       "      <td>правша</td>\n",
       "      <td>17</td>\n",
       "      <td>0.75</td>\n",
       "      <td>0.950</td>\n",
       "      <td>1.00</td>\n",
       "    </tr>\n",
       "    <tr>\n",
       "      <th>22</th>\n",
       "      <td>A13</td>\n",
       "      <td>77</td>\n",
       "      <td>f</td>\n",
       "      <td>правша</td>\n",
       "      <td>20</td>\n",
       "      <td>0.95</td>\n",
       "      <td>1.000</td>\n",
       "      <td>1.00</td>\n",
       "    </tr>\n",
       "    <tr>\n",
       "      <th>23</th>\n",
       "      <td>A14</td>\n",
       "      <td>77</td>\n",
       "      <td>f</td>\n",
       "      <td>левша</td>\n",
       "      <td>19</td>\n",
       "      <td>0.75</td>\n",
       "      <td>0.700</td>\n",
       "      <td>1.00</td>\n",
       "    </tr>\n",
       "    <tr>\n",
       "      <th>24</th>\n",
       "      <td>A15</td>\n",
       "      <td>83</td>\n",
       "      <td>f</td>\n",
       "      <td>правша</td>\n",
       "      <td>32</td>\n",
       "      <td>0.87</td>\n",
       "      <td>1.000</td>\n",
       "      <td>1.00</td>\n",
       "    </tr>\n",
       "    <tr>\n",
       "      <th>25</th>\n",
       "      <td>T15</td>\n",
       "      <td>73</td>\n",
       "      <td>f</td>\n",
       "      <td>левша</td>\n",
       "      <td>22</td>\n",
       "      <td>0.87</td>\n",
       "      <td>0.950</td>\n",
       "      <td>1.00</td>\n",
       "    </tr>\n",
       "    <tr>\n",
       "      <th>26</th>\n",
       "      <td>A16</td>\n",
       "      <td>78</td>\n",
       "      <td>f</td>\n",
       "      <td>правша</td>\n",
       "      <td>30</td>\n",
       "      <td>0.75</td>\n",
       "      <td>0.900</td>\n",
       "      <td>0.85</td>\n",
       "    </tr>\n",
       "    <tr>\n",
       "      <th>27</th>\n",
       "      <td>T16</td>\n",
       "      <td>70</td>\n",
       "      <td>m</td>\n",
       "      <td>правша</td>\n",
       "      <td>25,5</td>\n",
       "      <td>0.79</td>\n",
       "      <td>0.975</td>\n",
       "      <td>1.00</td>\n",
       "    </tr>\n",
       "    <tr>\n",
       "      <th>28</th>\n",
       "      <td>A17</td>\n",
       "      <td>80</td>\n",
       "      <td>m</td>\n",
       "      <td>амб</td>\n",
       "      <td>21</td>\n",
       "      <td>0.83</td>\n",
       "      <td>0.950</td>\n",
       "      <td>1.00</td>\n",
       "    </tr>\n",
       "    <tr>\n",
       "      <th>29</th>\n",
       "      <td>T17</td>\n",
       "      <td>71</td>\n",
       "      <td>m</td>\n",
       "      <td>левша</td>\n",
       "      <td>22</td>\n",
       "      <td>0.95</td>\n",
       "      <td>0.950</td>\n",
       "      <td>1.00</td>\n",
       "    </tr>\n",
       "  </tbody>\n",
       "</table>\n",
       "</div>"
      ],
      "text/plain": [
       "      ID  age_month gender     hand Raven  RuTOPP_3_NWR  Rythms_repeat  \\\n",
       "0    S02         71      m   правша    23          0.78          0.900   \n",
       "1    A01         71      f   правша    13          0.58          0.900   \n",
       "2    T02         74      m      амб    20          0.70          0.900   \n",
       "3    A02         83      m   правша    24          0.79          0.900   \n",
       "4    T03         70      f   правша    29          0.75          0.950   \n",
       "5    T05         83      m  правша     30          0.66          1.000   \n",
       "6    T06         80      m   правша    26          0.91          0.900   \n",
       "7    T08         76      f   правша    12          0.83          0.850   \n",
       "8    A03         76      f   правша    19          0.91          0.950   \n",
       "9    A04         74      m   правша    30          0.91          1.000   \n",
       "10   A05         71      m   правша    22          0.83          1.000   \n",
       "11   T09         76      m    левша    19          0.75          0.900   \n",
       "12   A06         68      f    левша    26          0.83          0.900   \n",
       "13   A07         70      m   правша    18          0.79          0.950   \n",
       "14   A08         76      m      амб    21          0.83          0.900   \n",
       "15   T10         81      m   правша    27          0.91          0.575   \n",
       "16   T11         72      m   правша    17          0.70          0.850   \n",
       "17   A10         80      m   правша    32          0.87          1.000   \n",
       "18   А11         73      m      амб    26          0.87          1.000   \n",
       "19   T13         70      m   правша    23          0.58          0.800   \n",
       "20   А12         71      m   правша    19          0.87          1.000   \n",
       "21   T14         78      m   правша    17          0.75          0.950   \n",
       "22   A13         77      f   правша    20          0.95          1.000   \n",
       "23   A14         77      f    левша    19          0.75          0.700   \n",
       "24   A15         83      f   правша    32          0.87          1.000   \n",
       "25   T15         73      f    левша    22          0.87          0.950   \n",
       "26   A16         78      f   правша    30          0.75          0.900   \n",
       "27   T16         70      m   правша  25,5          0.79          0.975   \n",
       "28  A17          80      m      амб    21          0.83          0.950   \n",
       "29   T17         71      m    левша    22          0.95          0.950   \n",
       "\n",
       "    Rythms_instr  \n",
       "0           0.90  \n",
       "1           0.50  \n",
       "2            NaN  \n",
       "3           0.70  \n",
       "4           1.00  \n",
       "5           1.00  \n",
       "6           1.00  \n",
       "7           1.00  \n",
       "8           1.00  \n",
       "9           1.00  \n",
       "10          1.00  \n",
       "11          1.00  \n",
       "12          1.00  \n",
       "13          0.60  \n",
       "14          1.00  \n",
       "15          0.70  \n",
       "16          1.00  \n",
       "17          1.00  \n",
       "18          1.00  \n",
       "19          1.00  \n",
       "20          0.90  \n",
       "21          1.00  \n",
       "22          1.00  \n",
       "23          1.00  \n",
       "24          1.00  \n",
       "25          1.00  \n",
       "26          0.85  \n",
       "27          1.00  \n",
       "28          1.00  \n",
       "29          1.00  "
      ]
     },
     "execution_count": 4,
     "metadata": {},
     "output_type": "execute_result"
    }
   ],
   "source": [
    "data = pd.read_csv(\"data_anya_point.csv\") \n",
    "data"
   ]
  },
  {
   "cell_type": "markdown",
   "metadata": {},
   "source": [
    "## Дескриптивная статистика по тестам"
   ]
  },
  {
   "cell_type": "markdown",
   "metadata": {},
   "source": [
    "среднее значение:"
   ]
  },
  {
   "cell_type": "code",
   "execution_count": 5,
   "metadata": {},
   "outputs": [
    {
     "data": {
      "text/plain": [
       "0.8053333333333332"
      ]
     },
     "execution_count": 5,
     "metadata": {},
     "output_type": "execute_result"
    }
   ],
   "source": [
    "data[\"RuTOPP_3_NWR\"].mean()"
   ]
  },
  {
   "cell_type": "code",
   "execution_count": 6,
   "metadata": {},
   "outputs": [
    {
     "data": {
      "text/plain": [
       "0.9166666666666665"
      ]
     },
     "execution_count": 6,
     "metadata": {},
     "output_type": "execute_result"
    }
   ],
   "source": [
    "data[\"Rythms_repeat\"].mean()"
   ]
  },
  {
   "cell_type": "code",
   "execution_count": 7,
   "metadata": {},
   "outputs": [
    {
     "data": {
      "text/plain": [
       "0.9362068965517241"
      ]
     },
     "execution_count": 7,
     "metadata": {},
     "output_type": "execute_result"
    }
   ],
   "source": [
    "data[\"Rythms_instr\"].mean()"
   ]
  },
  {
   "cell_type": "markdown",
   "metadata": {},
   "source": [
    "минимальное значение:"
   ]
  },
  {
   "cell_type": "code",
   "execution_count": 8,
   "metadata": {},
   "outputs": [
    {
     "data": {
      "text/plain": [
       "0.58"
      ]
     },
     "execution_count": 8,
     "metadata": {},
     "output_type": "execute_result"
    }
   ],
   "source": [
    "min(data[\"RuTOPP_3_NWR\"])"
   ]
  },
  {
   "cell_type": "code",
   "execution_count": 9,
   "metadata": {},
   "outputs": [
    {
     "data": {
      "text/plain": [
       "0.575"
      ]
     },
     "execution_count": 9,
     "metadata": {},
     "output_type": "execute_result"
    }
   ],
   "source": [
    "min(data[\"Rythms_repeat\"])"
   ]
  },
  {
   "cell_type": "code",
   "execution_count": 10,
   "metadata": {},
   "outputs": [
    {
     "data": {
      "text/plain": [
       "0.5"
      ]
     },
     "execution_count": 10,
     "metadata": {},
     "output_type": "execute_result"
    }
   ],
   "source": [
    "min(data[\"Rythms_instr\"])"
   ]
  },
  {
   "cell_type": "markdown",
   "metadata": {},
   "source": [
    "максимальное:"
   ]
  },
  {
   "cell_type": "code",
   "execution_count": 11,
   "metadata": {},
   "outputs": [
    {
     "data": {
      "text/plain": [
       "0.95"
      ]
     },
     "execution_count": 11,
     "metadata": {},
     "output_type": "execute_result"
    }
   ],
   "source": [
    "max(data[\"RuTOPP_3_NWR\"])"
   ]
  },
  {
   "cell_type": "code",
   "execution_count": 12,
   "metadata": {},
   "outputs": [
    {
     "data": {
      "text/plain": [
       "1.0"
      ]
     },
     "execution_count": 12,
     "metadata": {},
     "output_type": "execute_result"
    }
   ],
   "source": [
    "max(data[\"Rythms_repeat\"])"
   ]
  },
  {
   "cell_type": "code",
   "execution_count": 13,
   "metadata": {},
   "outputs": [
    {
     "data": {
      "text/plain": [
       "1.0"
      ]
     },
     "execution_count": 13,
     "metadata": {},
     "output_type": "execute_result"
    }
   ],
   "source": [
    "max(data[\"Rythms_instr\"])"
   ]
  },
  {
   "cell_type": "markdown",
   "metadata": {},
   "source": [
    "стандартное отклонение:"
   ]
  },
  {
   "cell_type": "code",
   "execution_count": 14,
   "metadata": {},
   "outputs": [
    {
     "data": {
      "text/plain": [
       "0.09506956517320474"
      ]
     },
     "execution_count": 14,
     "metadata": {},
     "output_type": "execute_result"
    }
   ],
   "source": [
    "np.std(data[\"RuTOPP_3_NWR\"])"
   ]
  },
  {
   "cell_type": "code",
   "execution_count": 15,
   "metadata": {},
   "outputs": [
    {
     "data": {
      "text/plain": [
       "0.09227073690444275"
      ]
     },
     "execution_count": 15,
     "metadata": {},
     "output_type": "execute_result"
    }
   ],
   "source": [
    "np.std(data[\"Rythms_repeat\"])"
   ]
  },
  {
   "cell_type": "code",
   "execution_count": 16,
   "metadata": {},
   "outputs": [
    {
     "data": {
      "text/plain": [
       "0.13319453735053768"
      ]
     },
     "execution_count": 16,
     "metadata": {},
     "output_type": "execute_result"
    }
   ],
   "source": [
    "np.std(data[\"Rythms_instr\"])"
   ]
  },
  {
   "cell_type": "markdown",
   "metadata": {},
   "source": [
    "бокс-рлоты по тестам:"
   ]
  },
  {
   "cell_type": "code",
   "execution_count": 17,
   "metadata": {},
   "outputs": [
    {
     "ename": "NameError",
     "evalue": "name 'x' is not defined",
     "output_type": "error",
     "traceback": [
      "\u001b[1;31m---------------------------------------------------------------------------\u001b[0m",
      "\u001b[1;31mNameError\u001b[0m                                 Traceback (most recent call last)",
      "\u001b[1;32m<ipython-input-17-96c1cfaf6d9f>\u001b[0m in \u001b[0;36m<module>\u001b[1;34m\u001b[0m\n\u001b[1;32m----> 1\u001b[1;33m \u001b[0mbox_plot_data\u001b[0m \u001b[1;33m=\u001b[0m \u001b[1;33m[\u001b[0m\u001b[0mx\u001b[0m\u001b[1;33m,\u001b[0m \u001b[0my\u001b[0m\u001b[1;33m,\u001b[0m \u001b[0mz\u001b[0m\u001b[1;33m.\u001b[0m\u001b[0mdropna\u001b[0m\u001b[1;33m(\u001b[0m\u001b[1;33m)\u001b[0m\u001b[1;33m]\u001b[0m\u001b[1;33m\u001b[0m\u001b[1;33m\u001b[0m\u001b[0m\n\u001b[0m\u001b[0;32m      2\u001b[0m \u001b[0mbox\u001b[0m \u001b[1;33m=\u001b[0m \u001b[0mplt\u001b[0m\u001b[1;33m.\u001b[0m\u001b[0mboxplot\u001b[0m\u001b[1;33m(\u001b[0m\u001b[0mbox_plot_data\u001b[0m\u001b[1;33m,\u001b[0m \u001b[0mvert\u001b[0m\u001b[1;33m=\u001b[0m\u001b[1;36m0\u001b[0m\u001b[1;33m,\u001b[0m \u001b[0mpatch_artist\u001b[0m\u001b[1;33m=\u001b[0m\u001b[1;32mTrue\u001b[0m \u001b[1;33m,\u001b[0m\u001b[0mlabels\u001b[0m\u001b[1;33m=\u001b[0m\u001b[1;33m[\u001b[0m\u001b[1;34m'повторение псевдослов'\u001b[0m\u001b[1;33m,\u001b[0m \u001b[1;34m'повторение ритмов'\u001b[0m\u001b[1;33m,\u001b[0m \u001b[1;34m'ритмы по инструкции'\u001b[0m\u001b[1;33m]\u001b[0m\u001b[1;33m)\u001b[0m\u001b[1;33m\u001b[0m\u001b[1;33m\u001b[0m\u001b[0m\n\u001b[0;32m      3\u001b[0m \u001b[0mcolors\u001b[0m \u001b[1;33m=\u001b[0m \u001b[1;33m[\u001b[0m\u001b[1;34m'red'\u001b[0m\u001b[1;33m,\u001b[0m \u001b[1;34m'green'\u001b[0m\u001b[1;33m,\u001b[0m \u001b[1;34m'blue'\u001b[0m\u001b[1;33m]\u001b[0m\u001b[1;33m\u001b[0m\u001b[1;33m\u001b[0m\u001b[0m\n\u001b[0;32m      4\u001b[0m \u001b[1;32mfor\u001b[0m \u001b[0mpatch\u001b[0m\u001b[1;33m,\u001b[0m \u001b[0mcolor\u001b[0m \u001b[1;32min\u001b[0m \u001b[0mzip\u001b[0m\u001b[1;33m(\u001b[0m\u001b[0mbox\u001b[0m\u001b[1;33m[\u001b[0m\u001b[1;34m'boxes'\u001b[0m\u001b[1;33m]\u001b[0m\u001b[1;33m,\u001b[0m \u001b[0mcolors\u001b[0m\u001b[1;33m)\u001b[0m\u001b[1;33m:\u001b[0m\u001b[1;33m\u001b[0m\u001b[1;33m\u001b[0m\u001b[0m\n\u001b[0;32m      5\u001b[0m     \u001b[0mpatch\u001b[0m\u001b[1;33m.\u001b[0m\u001b[0mset_facecolor\u001b[0m\u001b[1;33m(\u001b[0m\u001b[0mcolor\u001b[0m\u001b[1;33m)\u001b[0m\u001b[1;33m\u001b[0m\u001b[1;33m\u001b[0m\u001b[0m\n",
      "\u001b[1;31mNameError\u001b[0m: name 'x' is not defined"
     ]
    }
   ],
   "source": [
    "box_plot_data = [x, y, z.dropna()]\n",
    "box = plt.boxplot(box_plot_data, vert=0, patch_artist=True ,labels=['повторение псевдослов', 'повторение ритмов', 'ритмы по инструкции'])\n",
    "colors = ['red', 'green', 'blue']\n",
    "for patch, color in zip(box['boxes'], colors):\n",
    "    patch.set_facecolor(color)\n",
    " \n",
    "plt.show()"
   ]
  },
  {
   "cell_type": "markdown",
   "metadata": {},
   "source": [
    "## Дескрептивная статистика по участникам"
   ]
  },
  {
   "cell_type": "markdown",
   "metadata": {},
   "source": [
    "### *Возраст*"
   ]
  },
  {
   "cell_type": "markdown",
   "metadata": {},
   "source": [
    "Средний возраст:"
   ]
  },
  {
   "cell_type": "code",
   "execution_count": 18,
   "metadata": {},
   "outputs": [
    {
     "name": "stdout",
     "output_type": "stream",
     "text": [
      "75.1\n"
     ]
    }
   ],
   "source": [
    "average_age_mounth = data[\"age_month\"].mean()\n",
    "average_age = average_age_mounth / 12\n",
    "print(round(average_age_mounth, 2))"
   ]
  },
  {
   "cell_type": "markdown",
   "metadata": {},
   "source": [
    "Бокс-плот по возрасту:"
   ]
  },
  {
   "cell_type": "code",
   "execution_count": 19,
   "metadata": {},
   "outputs": [
    {
     "data": {
      "text/plain": [
       "<AxesSubplot:>"
      ]
     },
     "execution_count": 19,
     "metadata": {},
     "output_type": "execute_result"
    },
    {
     "data": {
      "image/png": "[encoded data removed]",
      "text/plain": [
       "<Figure size 432x288 with 1 Axes>"
      ]
     },
     "metadata": {
      "needs_background": "light"
     },
     "output_type": "display_data"
    }
   ],
   "source": [
    "data.boxplot(column =[\"age_month\"], grid = False)"
   ]
  },
  {
   "cell_type": "markdown",
   "metadata": {},
   "source": [
    "Минимальный возраст:"
   ]
  },
  {
   "cell_type": "code",
   "execution_count": 20,
   "metadata": {},
   "outputs": [
    {
     "data": {
      "text/plain": [
       "68"
      ]
     },
     "execution_count": 20,
     "metadata": {},
     "output_type": "execute_result"
    }
   ],
   "source": [
    "min(data['age_month'])"
   ]
  },
  {
   "cell_type": "markdown",
   "metadata": {},
   "source": [
    "Максимальный возраст:"
   ]
  },
  {
   "cell_type": "code",
   "execution_count": 21,
   "metadata": {},
   "outputs": [
    {
     "data": {
      "text/plain": [
       "83"
      ]
     },
     "execution_count": 21,
     "metadata": {},
     "output_type": "execute_result"
    }
   ],
   "source": [
    "max(data['age_month'])"
   ]
  },
  {
   "cell_type": "markdown",
   "metadata": {},
   "source": [
    "Среднее отклонение: "
   ]
  },
  {
   "cell_type": "code",
   "execution_count": 22,
   "metadata": {},
   "outputs": [
    {
     "data": {
      "text/plain": [
       "4.399621195815233"
      ]
     },
     "execution_count": 22,
     "metadata": {},
     "output_type": "execute_result"
    }
   ],
   "source": [
    "np.std(data['age_month'])"
   ]
  },
  {
   "cell_type": "markdown",
   "metadata": {},
   "source": [
    "### *Пол*"
   ]
  },
  {
   "cell_type": "markdown",
   "metadata": {},
   "source": [
    "Числа:"
   ]
  },
  {
   "cell_type": "code",
   "execution_count": 23,
   "metadata": {
    "scrolled": true
   },
   "outputs": [
    {
     "data": {
      "text/plain": [
       "m    20\n",
       "f    10\n",
       "Name: gender, dtype: int64"
      ]
     },
     "execution_count": 23,
     "metadata": {},
     "output_type": "execute_result"
    }
   ],
   "source": [
    "data['gender'].value_counts()"
   ]
  },
  {
   "cell_type": "markdown",
   "metadata": {},
   "source": [
    "Диаграмма:"
   ]
  },
  {
   "cell_type": "code",
   "execution_count": 24,
   "metadata": {},
   "outputs": [
    {
     "data": {
      "text/plain": [
       "Text(0.5, 1.0, 'Гендерное распределение')"
      ]
     },
     "execution_count": 24,
     "metadata": {},
     "output_type": "execute_result"
    },
    {
     "data": {
      "image/png": "[encoded data removed]",
      "text/plain": [
       "<Figure size 288x288 with 1 Axes>"
      ]
     },
     "metadata": {},
     "output_type": "display_data"
    }
   ],
   "source": [
    "colors = ['red', 'blue']\n",
    "data.groupby(\"gender\")['ID'].count().plot.pie(figsize=(4, 4), colors=colors)\n",
    "plt.title(\"Гендерное распределение\")"
   ]
  },
  {
   "cell_type": "markdown",
   "metadata": {},
   "source": [
    "### *Рукость*"
   ]
  },
  {
   "cell_type": "markdown",
   "metadata": {},
   "source": [
    "Числа:"
   ]
  },
  {
   "cell_type": "code",
   "execution_count": 25,
   "metadata": {},
   "outputs": [
    {
     "data": {
      "text/plain": [
       "правша     20\n",
       "левша       5\n",
       "амб         4\n",
       "правша      1\n",
       "Name: hand, dtype: int64"
      ]
     },
     "execution_count": 25,
     "metadata": {},
     "output_type": "execute_result"
    }
   ],
   "source": [
    "data['hand'].value_counts()"
   ]
  },
  {
   "cell_type": "markdown",
   "metadata": {},
   "source": [
    "Диаграмма:"
   ]
  },
  {
   "cell_type": "code",
   "execution_count": 26,
   "metadata": {},
   "outputs": [
    {
     "data": {
      "text/plain": [
       "Text(0.5, 1.0, 'Рукость')"
      ]
     },
     "execution_count": 26,
     "metadata": {},
     "output_type": "execute_result"
    },
    {
     "data": {
      "image/png": "[encoded data removed]",
      "text/plain": [
       "<Figure size 288x288 with 1 Axes>"
      ]
     },
     "metadata": {},
     "output_type": "display_data"
    }
   ],
   "source": [
    "colors = ['green', 'blue', 'yellow']\n",
    "data.groupby(\"hand\")[\"ID\"].count().plot.pie(figsize=(4, 4), colors=colors)\n",
    "plt.title(\"Рукость\")"
   ]
  },
  {
   "cell_type": "markdown",
   "metadata": {},
   "source": [
    "## Статистика"
   ]
  },
  {
   "cell_type": "markdown",
   "metadata": {},
   "source": [
    "Создаём перемнные по столбцам:"
   ]
  },
  {
   "cell_type": "code",
   "execution_count": 27,
   "metadata": {},
   "outputs": [],
   "source": [
    "x = data['RuTOPP_3_NWR'] #повторение псевдослов\n",
    "y = data['Rythms_repeat'] #повторение ритмов\n",
    "z = data['Rythms_instr'] #ритмы по инструкции\n",
    "age = data['age_month']"
   ]
  },
  {
   "cell_type": "markdown",
   "metadata": {},
   "source": [
    "График распределения: повторение псевдослов"
   ]
  },
  {
   "cell_type": "code",
   "execution_count": 28,
   "metadata": {},
   "outputs": [
    {
     "data": {
      "image/png": "[encoded data removed]",
      "text/plain": [
       "<Figure size 432x288 with 1 Axes>"
      ]
     },
     "metadata": {
      "needs_background": "light"
     },
     "output_type": "display_data"
    }
   ],
   "source": [
    "x.hist(bins=5)\n",
    "plt.xlabel('значение')\n",
    "plt.ylabel('Частота')\n",
    "plt.show()"
   ]
  },
  {
   "cell_type": "markdown",
   "metadata": {},
   "source": [
    "тест Шапиро-Уилка:"
   ]
  },
  {
   "cell_type": "code",
   "execution_count": 29,
   "metadata": {
    "scrolled": true
   },
   "outputs": [
    {
     "data": {
      "text/plain": [
       "ShapiroResult(statistic=0.9409974813461304, pvalue=0.09676434844732285)"
      ]
     },
     "execution_count": 29,
     "metadata": {},
     "output_type": "execute_result"
    }
   ],
   "source": [
    "stats.shapiro(x)"
   ]
  },
  {
   "cell_type": "code",
   "execution_count": 30,
   "metadata": {},
   "outputs": [
    {
     "name": "stdout",
     "output_type": "stream",
     "text": [
      "Sample looks Gaussian\n"
     ]
    }
   ],
   "source": [
    "if stats.shapiro(x)[1] > 0.05:\n",
    "    print(\"Sample looks Gaussian\")\n",
    "else:\n",
    "    print(\"Sample does not look Gaussian\")"
   ]
  },
  {
   "cell_type": "markdown",
   "metadata": {},
   "source": [
    "График распределения: повторение ритмов"
   ]
  },
  {
   "cell_type": "code",
   "execution_count": 31,
   "metadata": {},
   "outputs": [
    {
     "data": {
      "image/png": "[encoded data removed]",
      "text/plain": [
       "<Figure size 432x288 with 1 Axes>"
      ]
     },
     "metadata": {
      "needs_background": "light"
     },
     "output_type": "display_data"
    }
   ],
   "source": [
    "y.hist(bins=5)\n",
    "plt.xlabel('значение')\n",
    "plt.ylabel('Частота')\n",
    "plt.show()"
   ]
  },
  {
   "cell_type": "markdown",
   "metadata": {},
   "source": [
    "тест Шапиро-Уилка:"
   ]
  },
  {
   "cell_type": "code",
   "execution_count": 32,
   "metadata": {},
   "outputs": [
    {
     "data": {
      "text/plain": [
       "ShapiroResult(statistic=0.766798734664917, pvalue=1.722091474221088e-05)"
      ]
     },
     "execution_count": 32,
     "metadata": {},
     "output_type": "execute_result"
    }
   ],
   "source": [
    "stats.shapiro(y)"
   ]
  },
  {
   "cell_type": "code",
   "execution_count": 33,
   "metadata": {},
   "outputs": [
    {
     "name": "stdout",
     "output_type": "stream",
     "text": [
      "Sample does not look Gaussian\n"
     ]
    }
   ],
   "source": [
    "if stats.shapiro(y)[1] > 0.05:\n",
    "    print(\"Sample looks Gaussian\")\n",
    "else:\n",
    "    print(\"Sample does not look Gaussian\")"
   ]
  },
  {
   "cell_type": "markdown",
   "metadata": {},
   "source": [
    "График распределения: ритмы по инструкции"
   ]
  },
  {
   "cell_type": "code",
   "execution_count": 34,
   "metadata": {},
   "outputs": [
    {
     "data": {
      "image/png": "[encoded data removed]",
      "text/plain": [
       "<Figure size 432x288 with 1 Axes>"
      ]
     },
     "metadata": {
      "needs_background": "light"
     },
     "output_type": "display_data"
    }
   ],
   "source": [
    "z.hist(bins=5)\n",
    "plt.xlabel('значение')\n",
    "plt.ylabel('Частота')\n",
    "plt.show()"
   ]
  },
  {
   "cell_type": "markdown",
   "metadata": {},
   "source": [
    "тест Шапиро-Уилка:"
   ]
  },
  {
   "cell_type": "code",
   "execution_count": 35,
   "metadata": {},
   "outputs": [
    {
     "data": {
      "text/plain": [
       "ShapiroResult(statistic=0.5469540953636169, pvalue=2.4985586932757542e-08)"
      ]
     },
     "execution_count": 35,
     "metadata": {},
     "output_type": "execute_result"
    }
   ],
   "source": [
    "stats.shapiro(z.dropna())"
   ]
  },
  {
   "cell_type": "code",
   "execution_count": 36,
   "metadata": {},
   "outputs": [
    {
     "name": "stdout",
     "output_type": "stream",
     "text": [
      "Sample does not look Gaussian\n"
     ]
    }
   ],
   "source": [
    "if stats.shapiro(z.dropna())[1] > 0.05:\n",
    "    print(\"Sample looks Gaussian\")\n",
    "else:\n",
    "    print(\"Sample does not look Gaussian\")"
   ]
  },
  {
   "cell_type": "markdown",
   "metadata": {},
   "source": [
    "### Проверка корреляции"
   ]
  },
  {
   "cell_type": "markdown",
   "metadata": {},
   "source": [
    "График разброса: повторение псевдослов и повторение ритмов"
   ]
  },
  {
   "cell_type": "code",
   "execution_count": 37,
   "metadata": {},
   "outputs": [
    {
     "data": {
      "image/png": "[encoded data removed]",
      "text/plain": [
       "<Figure size 432x288 with 1 Axes>"
      ]
     },
     "metadata": {
      "needs_background": "light"
     },
     "output_type": "display_data"
    }
   ],
   "source": [
    "plt.scatter(x, y)\n",
    "plt.xlabel('повторение псевдослов')\n",
    "plt.ylabel('повторение ритмов')\n",
    "plt.show()"
   ]
  },
  {
   "cell_type": "markdown",
   "metadata": {},
   "source": [
    "График разброса: повторение псевдослов и ритмы по инструкции"
   ]
  },
  {
   "cell_type": "code",
   "execution_count": 38,
   "metadata": {},
   "outputs": [
    {
     "data": {
      "image/png": "[encoded data removed]",
      "text/plain": [
       "<Figure size 432x288 with 1 Axes>"
      ]
     },
     "metadata": {
      "needs_background": "light"
     },
     "output_type": "display_data"
    }
   ],
   "source": [
    "plt.scatter(x, z)\n",
    "plt.xlabel('повторение псевдослов')\n",
    "plt.ylabel('ритмы по инструкции')\n",
    "plt.show()"
   ]
  },
  {
   "cell_type": "markdown",
   "metadata": {},
   "source": [
    "корреляция Спирмена: повторение псевдослов и повторение ритмов"
   ]
  },
  {
   "cell_type": "code",
   "execution_count": 39,
   "metadata": {},
   "outputs": [
    {
     "data": {
      "text/plain": [
       "SpearmanrResult(correlation=0.4001136069749739, pvalue=0.02846381322420432)"
      ]
     },
     "execution_count": 39,
     "metadata": {},
     "output_type": "execute_result"
    }
   ],
   "source": [
    "stats.spearmanr(x, y)"
   ]
  },
  {
   "cell_type": "code",
   "execution_count": 40,
   "metadata": {},
   "outputs": [],
   "source": [
    "def cor_sp(p):\n",
    "    if p > 0.05:\n",
    "        print(\"Samples are uncorrelated;\", \"p =\", p)\n",
    "    else:\n",
    "        print(\"Samples are correlated;\", \"p =\", p)"
   ]
  },
  {
   "cell_type": "markdown",
   "metadata": {},
   "source": [
    "корреляция Спирмена: повторение псевдослов и ритмы по инструкции"
   ]
  },
  {
   "cell_type": "code",
   "execution_count": 41,
   "metadata": {},
   "outputs": [
    {
     "data": {
      "text/plain": [
       "SpearmanrResult(correlation=0.17839922379560472, pvalue=0.35449387703363)"
      ]
     },
     "execution_count": 41,
     "metadata": {},
     "output_type": "execute_result"
    }
   ],
   "source": [
    "stats.spearmanr(x.drop(2), z.dropna())"
   ]
  },
  {
   "cell_type": "markdown",
   "metadata": {},
   "source": [
    "### доп. тесты"
   ]
  },
  {
   "cell_type": "markdown",
   "metadata": {},
   "source": [
    "тест U-тест Манна-Уитни"
   ]
  },
  {
   "cell_type": "code",
   "execution_count": 42,
   "metadata": {},
   "outputs": [],
   "source": [
    "from scipy.stats import mannwhitneyu"
   ]
  },
  {
   "cell_type": "code",
   "execution_count": 43,
   "metadata": {},
   "outputs": [
    {
     "data": {
      "text/plain": [
       "MannwhitneyuResult(statistic=155.0, pvalue=5.970600904846019e-06)"
      ]
     },
     "execution_count": 43,
     "metadata": {},
     "output_type": "execute_result"
    }
   ],
   "source": [
    "stats.mannwhitneyu(x, y)"
   ]
  },
  {
   "cell_type": "markdown",
   "metadata": {},
   "source": [
    "тест Уилкоксона"
   ]
  },
  {
   "cell_type": "code",
   "execution_count": 44,
   "metadata": {},
   "outputs": [],
   "source": [
    "from scipy.stats import wilcoxon"
   ]
  },
  {
   "cell_type": "code",
   "execution_count": 45,
   "metadata": {},
   "outputs": [
    {
     "data": {
      "text/plain": [
       "WilcoxonResult(statistic=33.5, pvalue=6.869427503027056e-05)"
      ]
     },
     "execution_count": 45,
     "metadata": {},
     "output_type": "execute_result"
    }
   ],
   "source": [
    "stats.wilcoxon(x, y)"
   ]
  },
  {
   "cell_type": "markdown",
   "metadata": {},
   "source": [
    "Н-тест Крускала-Уоллиса"
   ]
  },
  {
   "cell_type": "code",
   "execution_count": 46,
   "metadata": {},
   "outputs": [],
   "source": [
    "from scipy.stats import kruskal"
   ]
  },
  {
   "cell_type": "code",
   "execution_count": 47,
   "metadata": {},
   "outputs": [
    {
     "data": {
      "text/plain": [
       "KruskalResult(statistic=31.183009103199886, pvalue=1.693150677283845e-07)"
      ]
     },
     "execution_count": 47,
     "metadata": {},
     "output_type": "execute_result"
    }
   ],
   "source": [
    "stats.kruskal(x, y, z.dropna())"
   ]
  },
  {
   "cell_type": "markdown",
   "metadata": {},
   "source": [
    " тест Фридмана"
   ]
  },
  {
   "cell_type": "code",
   "execution_count": 48,
   "metadata": {},
   "outputs": [],
   "source": [
    "from scipy.stats import friedmanchisquare"
   ]
  },
  {
   "cell_type": "code",
   "execution_count": 49,
   "metadata": {},
   "outputs": [
    {
     "data": {
      "text/plain": [
       "FriedmanchisquareResult(statistic=29.74774774774773, pvalue=3.4702331332773536e-07)"
      ]
     },
     "execution_count": 49,
     "metadata": {},
     "output_type": "execute_result"
    }
   ],
   "source": [
    "stats.friedmanchisquare(x, y, z)"
   ]
  },
  {
   "cell_type": "markdown",
   "metadata": {},
   "source": [
    "## сравнение по возрастным группам"
   ]
  },
  {
   "cell_type": "markdown",
   "metadata": {},
   "source": [
    "### младшая группа (до 74 месяцев)"
   ]
  },
  {
   "cell_type": "code",
   "execution_count": 50,
   "metadata": {},
   "outputs": [
    {
     "data": {
      "text/html": [
       "<div>\n",
       "<style scoped>\n",
       "    .dataframe tbody tr th:only-of-type {\n",
       "        vertical-align: middle;\n",
       "    }\n",
       "\n",
       "    .dataframe tbody tr th {\n",
       "        vertical-align: top;\n",
       "    }\n",
       "\n",
       "    .dataframe thead th {\n",
       "        text-align: right;\n",
       "    }\n",
       "</style>\n",
       "<table border=\"1\" class=\"dataframe\">\n",
       "  <thead>\n",
       "    <tr style=\"text-align: right;\">\n",
       "      <th></th>\n",
       "      <th>ID</th>\n",
       "      <th>age_m</th>\n",
       "      <th>gender</th>\n",
       "      <th>hand</th>\n",
       "      <th>Raven</th>\n",
       "      <th>RuTOPP_3_NWR</th>\n",
       "      <th>Rythms_repeat</th>\n",
       "      <th>Rythms_instr</th>\n",
       "    </tr>\n",
       "  </thead>\n",
       "  <tbody>\n",
       "    <tr>\n",
       "      <th>0</th>\n",
       "      <td>A06</td>\n",
       "      <td>68</td>\n",
       "      <td>f</td>\n",
       "      <td>левша</td>\n",
       "      <td>26</td>\n",
       "      <td>0.83</td>\n",
       "      <td>0.900</td>\n",
       "      <td>1.0</td>\n",
       "    </tr>\n",
       "    <tr>\n",
       "      <th>1</th>\n",
       "      <td>T03</td>\n",
       "      <td>70</td>\n",
       "      <td>f</td>\n",
       "      <td>правша</td>\n",
       "      <td>29</td>\n",
       "      <td>0.75</td>\n",
       "      <td>0.950</td>\n",
       "      <td>1.0</td>\n",
       "    </tr>\n",
       "    <tr>\n",
       "      <th>2</th>\n",
       "      <td>A07</td>\n",
       "      <td>70</td>\n",
       "      <td>m</td>\n",
       "      <td>правша</td>\n",
       "      <td>18</td>\n",
       "      <td>0.79</td>\n",
       "      <td>0.950</td>\n",
       "      <td>0.6</td>\n",
       "    </tr>\n",
       "    <tr>\n",
       "      <th>3</th>\n",
       "      <td>T13</td>\n",
       "      <td>70</td>\n",
       "      <td>m</td>\n",
       "      <td>правша</td>\n",
       "      <td>23</td>\n",
       "      <td>0.58</td>\n",
       "      <td>0.800</td>\n",
       "      <td>1.0</td>\n",
       "    </tr>\n",
       "    <tr>\n",
       "      <th>4</th>\n",
       "      <td>T16</td>\n",
       "      <td>70</td>\n",
       "      <td>m</td>\n",
       "      <td>правша</td>\n",
       "      <td>25,5</td>\n",
       "      <td>0.79</td>\n",
       "      <td>0.975</td>\n",
       "      <td>1.0</td>\n",
       "    </tr>\n",
       "    <tr>\n",
       "      <th>5</th>\n",
       "      <td>S02</td>\n",
       "      <td>71</td>\n",
       "      <td>m</td>\n",
       "      <td>правша</td>\n",
       "      <td>23</td>\n",
       "      <td>0.78</td>\n",
       "      <td>0.900</td>\n",
       "      <td>0.9</td>\n",
       "    </tr>\n",
       "    <tr>\n",
       "      <th>6</th>\n",
       "      <td>A01</td>\n",
       "      <td>71</td>\n",
       "      <td>f</td>\n",
       "      <td>правша</td>\n",
       "      <td>13</td>\n",
       "      <td>0.58</td>\n",
       "      <td>0.900</td>\n",
       "      <td>0.5</td>\n",
       "    </tr>\n",
       "    <tr>\n",
       "      <th>7</th>\n",
       "      <td>A05</td>\n",
       "      <td>71</td>\n",
       "      <td>m</td>\n",
       "      <td>правша</td>\n",
       "      <td>22</td>\n",
       "      <td>0.83</td>\n",
       "      <td>1.000</td>\n",
       "      <td>1.0</td>\n",
       "    </tr>\n",
       "    <tr>\n",
       "      <th>8</th>\n",
       "      <td>А12</td>\n",
       "      <td>71</td>\n",
       "      <td>m</td>\n",
       "      <td>правша</td>\n",
       "      <td>19</td>\n",
       "      <td>0.87</td>\n",
       "      <td>1.000</td>\n",
       "      <td>0.9</td>\n",
       "    </tr>\n",
       "    <tr>\n",
       "      <th>9</th>\n",
       "      <td>T17</td>\n",
       "      <td>71</td>\n",
       "      <td>m</td>\n",
       "      <td>левша</td>\n",
       "      <td>22</td>\n",
       "      <td>0.95</td>\n",
       "      <td>0.950</td>\n",
       "      <td>1.0</td>\n",
       "    </tr>\n",
       "    <tr>\n",
       "      <th>10</th>\n",
       "      <td>T11</td>\n",
       "      <td>72</td>\n",
       "      <td>m</td>\n",
       "      <td>правша</td>\n",
       "      <td>17</td>\n",
       "      <td>0.70</td>\n",
       "      <td>0.850</td>\n",
       "      <td>1.0</td>\n",
       "    </tr>\n",
       "    <tr>\n",
       "      <th>11</th>\n",
       "      <td>А11</td>\n",
       "      <td>73</td>\n",
       "      <td>m</td>\n",
       "      <td>амб</td>\n",
       "      <td>26</td>\n",
       "      <td>0.87</td>\n",
       "      <td>1.000</td>\n",
       "      <td>1.0</td>\n",
       "    </tr>\n",
       "    <tr>\n",
       "      <th>12</th>\n",
       "      <td>T15</td>\n",
       "      <td>73</td>\n",
       "      <td>f</td>\n",
       "      <td>левша</td>\n",
       "      <td>22</td>\n",
       "      <td>0.87</td>\n",
       "      <td>0.950</td>\n",
       "      <td>1.0</td>\n",
       "    </tr>\n",
       "    <tr>\n",
       "      <th>13</th>\n",
       "      <td>T02</td>\n",
       "      <td>74</td>\n",
       "      <td>m</td>\n",
       "      <td>амб</td>\n",
       "      <td>20</td>\n",
       "      <td>0.70</td>\n",
       "      <td>0.900</td>\n",
       "      <td>NaN</td>\n",
       "    </tr>\n",
       "    <tr>\n",
       "      <th>14</th>\n",
       "      <td>A04</td>\n",
       "      <td>74</td>\n",
       "      <td>m</td>\n",
       "      <td>правша</td>\n",
       "      <td>30</td>\n",
       "      <td>0.91</td>\n",
       "      <td>1.000</td>\n",
       "      <td>1.0</td>\n",
       "    </tr>\n",
       "  </tbody>\n",
       "</table>\n",
       "</div>"
      ],
      "text/plain": [
       "     ID  age_m gender    hand Raven  RuTOPP_3_NWR  Rythms_repeat  Rythms_instr\n",
       "0   A06     68      f   левша    26          0.83          0.900           1.0\n",
       "1   T03     70      f  правша    29          0.75          0.950           1.0\n",
       "2   A07     70      m  правша    18          0.79          0.950           0.6\n",
       "3   T13     70      m  правша    23          0.58          0.800           1.0\n",
       "4   T16     70      m  правша  25,5          0.79          0.975           1.0\n",
       "5   S02     71      m  правша    23          0.78          0.900           0.9\n",
       "6   A01     71      f  правша    13          0.58          0.900           0.5\n",
       "7   A05     71      m  правша    22          0.83          1.000           1.0\n",
       "8   А12     71      m  правша    19          0.87          1.000           0.9\n",
       "9   T17     71      m   левша    22          0.95          0.950           1.0\n",
       "10  T11     72      m  правша    17          0.70          0.850           1.0\n",
       "11  А11     73      m     амб    26          0.87          1.000           1.0\n",
       "12  T15     73      f   левша    22          0.87          0.950           1.0\n",
       "13  T02     74      m     амб    20          0.70          0.900           NaN\n",
       "14  A04     74      m  правша    30          0.91          1.000           1.0"
      ]
     },
     "execution_count": 50,
     "metadata": {},
     "output_type": "execute_result"
    }
   ],
   "source": [
    "df_gr1 = pd.read_csv(\"data_anya_group1.csv\") \n",
    "df_gr1"
   ]
  },
  {
   "cell_type": "code",
   "execution_count": 51,
   "metadata": {},
   "outputs": [
    {
     "data": {
      "text/plain": [
       "68"
      ]
     },
     "execution_count": 51,
     "metadata": {},
     "output_type": "execute_result"
    }
   ],
   "source": [
    "min(df_gr1['age_m']) #min"
   ]
  },
  {
   "cell_type": "code",
   "execution_count": 52,
   "metadata": {},
   "outputs": [
    {
     "data": {
      "text/plain": [
       "74"
      ]
     },
     "execution_count": 52,
     "metadata": {},
     "output_type": "execute_result"
    }
   ],
   "source": [
    "max(df_gr1['age_m']) #max"
   ]
  },
  {
   "cell_type": "code",
   "execution_count": 53,
   "metadata": {},
   "outputs": [
    {
     "data": {
      "text/plain": [
       "71.26666666666667"
      ]
     },
     "execution_count": 53,
     "metadata": {},
     "output_type": "execute_result"
    }
   ],
   "source": [
    "(df_gr1['age_m']).mean() #average"
   ]
  },
  {
   "cell_type": "code",
   "execution_count": 103,
   "metadata": {},
   "outputs": [
    {
     "data": {
      "text/plain": [
       "1.6110727964792766"
      ]
     },
     "execution_count": 103,
     "metadata": {},
     "output_type": "execute_result"
    }
   ],
   "source": [
    "np.std(df_gr1[\"age_m\"]) #SD"
   ]
  },
  {
   "cell_type": "code",
   "execution_count": 54,
   "metadata": {},
   "outputs": [
    {
     "data": {
      "text/plain": [
       "m    11\n",
       "f     4\n",
       "Name: gender, dtype: int64"
      ]
     },
     "execution_count": 54,
     "metadata": {},
     "output_type": "execute_result"
    }
   ],
   "source": [
    "df_gr1['gender'].value_counts() #gender"
   ]
  },
  {
   "cell_type": "markdown",
   "metadata": {},
   "source": [
    "переменные:"
   ]
  },
  {
   "cell_type": "code",
   "execution_count": 55,
   "metadata": {},
   "outputs": [],
   "source": [
    "x1 = df_gr1['RuTOPP_3_NWR'] #повторение псевдослов\n",
    "y1 = df_gr1['Rythms_repeat'] #повторение ритмов\n",
    "z1 = df_gr1['Rythms_instr'] #ритмы по инструкции"
   ]
  },
  {
   "cell_type": "markdown",
   "metadata": {},
   "source": [
    "Тест Шапиро-Уилка:"
   ]
  },
  {
   "cell_type": "code",
   "execution_count": 56,
   "metadata": {},
   "outputs": [
    {
     "name": "stdout",
     "output_type": "stream",
     "text": [
      "ShapiroResult(statistic=0.9335189461708069, pvalue=0.3077894449234009)\n",
      "Sample looks Gaussian\n"
     ]
    }
   ],
   "source": [
    "print(stats.shapiro(x1))\n",
    "\n",
    "if stats.shapiro(x1)[1] > 0.05:\n",
    "    print(\"Sample looks Gaussian\")\n",
    "else:\n",
    "    print(\"Sample does not look Gaussian\")"
   ]
  },
  {
   "cell_type": "code",
   "execution_count": 57,
   "metadata": {},
   "outputs": [
    {
     "data": {
      "image/png": "[encoded data removed]",
      "text/plain": [
       "<Figure size 432x288 with 1 Axes>"
      ]
     },
     "metadata": {
      "needs_background": "light"
     },
     "output_type": "display_data"
    }
   ],
   "source": [
    "x1.hist(bins=5)\n",
    "plt.xlabel('значение')\n",
    "plt.ylabel('Частота')\n",
    "plt.show()"
   ]
  },
  {
   "cell_type": "code",
   "execution_count": 58,
   "metadata": {},
   "outputs": [
    {
     "name": "stdout",
     "output_type": "stream",
     "text": [
      "ShapiroResult(statistic=0.8939304947853088, pvalue=0.07692056149244308)\n",
      "Sample looks Gaussian\n"
     ]
    }
   ],
   "source": [
    "print(stats.shapiro(y1))\n",
    "\n",
    "if stats.shapiro(y1)[1] > 0.05:\n",
    "    print(\"Sample looks Gaussian\")\n",
    "else:\n",
    "    print(\"Sample does not look Gaussian\")"
   ]
  },
  {
   "cell_type": "code",
   "execution_count": 59,
   "metadata": {},
   "outputs": [
    {
     "data": {
      "image/png": "[encoded data removed]",
      "text/plain": [
       "<Figure size 432x288 with 1 Axes>"
      ]
     },
     "metadata": {
      "needs_background": "light"
     },
     "output_type": "display_data"
    }
   ],
   "source": [
    "y1.hist(bins=5)\n",
    "plt.xlabel('значение')\n",
    "plt.ylabel('Частота')\n",
    "plt.show()"
   ]
  },
  {
   "cell_type": "code",
   "execution_count": 60,
   "metadata": {},
   "outputs": [
    {
     "name": "stdout",
     "output_type": "stream",
     "text": [
      "ShapiroResult(statistic=0.5581471920013428, pvalue=1.7594687960809097e-05)\n",
      "Sample does not look Gaussian\n"
     ]
    }
   ],
   "source": [
    "print(stats.shapiro(z1.dropna()))\n",
    "\n",
    "if stats.shapiro(z1.dropna())[1] > 0.05:\n",
    "    print(\"Sample looks Gaussian\")\n",
    "else:\n",
    "    print(\"Sample does not look Gaussian\")"
   ]
  },
  {
   "cell_type": "code",
   "execution_count": 61,
   "metadata": {},
   "outputs": [
    {
     "data": {
      "image/png": "[encoded data removed]",
      "text/plain": [
       "<Figure size 432x288 with 1 Axes>"
      ]
     },
     "metadata": {
      "needs_background": "light"
     },
     "output_type": "display_data"
    }
   ],
   "source": [
    "z1.hist(bins=5)\n",
    "plt.xlabel('значение')\n",
    "plt.ylabel('Частота')\n",
    "plt.show()"
   ]
  },
  {
   "cell_type": "markdown",
   "metadata": {},
   "source": [
    "проверка корреляции:"
   ]
  },
  {
   "cell_type": "code",
   "execution_count": 62,
   "metadata": {},
   "outputs": [
    {
     "data": {
      "text/plain": [
       "SpearmanrResult(correlation=0.7404488223858559, pvalue=0.0015935733846756145)"
      ]
     },
     "execution_count": 62,
     "metadata": {},
     "output_type": "execute_result"
    }
   ],
   "source": [
    "stats.spearmanr(x1, y1)"
   ]
  },
  {
   "cell_type": "code",
   "execution_count": 63,
   "metadata": {},
   "outputs": [
    {
     "data": {
      "image/png": "[encoded data removed]",
      "text/plain": [
       "<Figure size 432x288 with 1 Axes>"
      ]
     },
     "metadata": {
      "needs_background": "light"
     },
     "output_type": "display_data"
    }
   ],
   "source": [
    "plt.scatter(x1, y1)\n",
    "plt.xlabel('повторение псевдослов')\n",
    "plt.ylabel('повторение ритмов')\n",
    "plt.show()"
   ]
  },
  {
   "cell_type": "code",
   "execution_count": 64,
   "metadata": {},
   "outputs": [
    {
     "data": {
      "text/plain": [
       "SpearmanrResult(correlation=0.291810806367418, pvalue=0.311387604966037)"
      ]
     },
     "execution_count": 64,
     "metadata": {},
     "output_type": "execute_result"
    }
   ],
   "source": [
    "stats.spearmanr(x1.drop(13), z1.dropna())"
   ]
  },
  {
   "cell_type": "code",
   "execution_count": 65,
   "metadata": {},
   "outputs": [
    {
     "data": {
      "image/png": "[encoded data removed]",
      "text/plain": [
       "<Figure size 432x288 with 1 Axes>"
      ]
     },
     "metadata": {
      "needs_background": "light"
     },
     "output_type": "display_data"
    }
   ],
   "source": [
    "plt.scatter(x1, z1)\n",
    "plt.xlabel('повторение псевдослов')\n",
    "plt.ylabel('ритмы по инструкции')\n",
    "plt.show()"
   ]
  },
  {
   "cell_type": "markdown",
   "metadata": {},
   "source": [
    "### страшая группа (74-83 месяцев)"
   ]
  },
  {
   "cell_type": "code",
   "execution_count": 66,
   "metadata": {},
   "outputs": [
    {
     "data": {
      "text/html": [
       "<div>\n",
       "<style scoped>\n",
       "    .dataframe tbody tr th:only-of-type {\n",
       "        vertical-align: middle;\n",
       "    }\n",
       "\n",
       "    .dataframe tbody tr th {\n",
       "        vertical-align: top;\n",
       "    }\n",
       "\n",
       "    .dataframe thead th {\n",
       "        text-align: right;\n",
       "    }\n",
       "</style>\n",
       "<table border=\"1\" class=\"dataframe\">\n",
       "  <thead>\n",
       "    <tr style=\"text-align: right;\">\n",
       "      <th></th>\n",
       "      <th>ID</th>\n",
       "      <th>age_m</th>\n",
       "      <th>gender</th>\n",
       "      <th>hand</th>\n",
       "      <th>Raven</th>\n",
       "      <th>RuTOPP_3_NWR</th>\n",
       "      <th>Rythms_repeat</th>\n",
       "      <th>Rythms_instr</th>\n",
       "    </tr>\n",
       "  </thead>\n",
       "  <tbody>\n",
       "    <tr>\n",
       "      <th>0</th>\n",
       "      <td>T08</td>\n",
       "      <td>76</td>\n",
       "      <td>f</td>\n",
       "      <td>правша</td>\n",
       "      <td>12</td>\n",
       "      <td>0.83</td>\n",
       "      <td>0.850</td>\n",
       "      <td>1.00</td>\n",
       "    </tr>\n",
       "    <tr>\n",
       "      <th>1</th>\n",
       "      <td>A03</td>\n",
       "      <td>76</td>\n",
       "      <td>f</td>\n",
       "      <td>правша</td>\n",
       "      <td>19</td>\n",
       "      <td>0.91</td>\n",
       "      <td>0.950</td>\n",
       "      <td>1.00</td>\n",
       "    </tr>\n",
       "    <tr>\n",
       "      <th>2</th>\n",
       "      <td>T09</td>\n",
       "      <td>76</td>\n",
       "      <td>m</td>\n",
       "      <td>левша</td>\n",
       "      <td>19</td>\n",
       "      <td>0.75</td>\n",
       "      <td>0.900</td>\n",
       "      <td>1.00</td>\n",
       "    </tr>\n",
       "    <tr>\n",
       "      <th>3</th>\n",
       "      <td>A08</td>\n",
       "      <td>76</td>\n",
       "      <td>m</td>\n",
       "      <td>амб</td>\n",
       "      <td>21</td>\n",
       "      <td>0.83</td>\n",
       "      <td>0.900</td>\n",
       "      <td>1.00</td>\n",
       "    </tr>\n",
       "    <tr>\n",
       "      <th>4</th>\n",
       "      <td>A13</td>\n",
       "      <td>77</td>\n",
       "      <td>f</td>\n",
       "      <td>правша</td>\n",
       "      <td>20</td>\n",
       "      <td>0.95</td>\n",
       "      <td>1.000</td>\n",
       "      <td>1.00</td>\n",
       "    </tr>\n",
       "    <tr>\n",
       "      <th>5</th>\n",
       "      <td>A14</td>\n",
       "      <td>77</td>\n",
       "      <td>f</td>\n",
       "      <td>левша</td>\n",
       "      <td>19</td>\n",
       "      <td>0.75</td>\n",
       "      <td>0.700</td>\n",
       "      <td>1.00</td>\n",
       "    </tr>\n",
       "    <tr>\n",
       "      <th>6</th>\n",
       "      <td>T14</td>\n",
       "      <td>78</td>\n",
       "      <td>m</td>\n",
       "      <td>правша</td>\n",
       "      <td>17</td>\n",
       "      <td>0.75</td>\n",
       "      <td>0.950</td>\n",
       "      <td>1.00</td>\n",
       "    </tr>\n",
       "    <tr>\n",
       "      <th>7</th>\n",
       "      <td>A16</td>\n",
       "      <td>78</td>\n",
       "      <td>f</td>\n",
       "      <td>правша</td>\n",
       "      <td>30</td>\n",
       "      <td>0.75</td>\n",
       "      <td>0.900</td>\n",
       "      <td>0.85</td>\n",
       "    </tr>\n",
       "    <tr>\n",
       "      <th>8</th>\n",
       "      <td>T06</td>\n",
       "      <td>80</td>\n",
       "      <td>m</td>\n",
       "      <td>правша</td>\n",
       "      <td>26</td>\n",
       "      <td>0.91</td>\n",
       "      <td>0.900</td>\n",
       "      <td>1.00</td>\n",
       "    </tr>\n",
       "    <tr>\n",
       "      <th>9</th>\n",
       "      <td>A10</td>\n",
       "      <td>80</td>\n",
       "      <td>m</td>\n",
       "      <td>правша</td>\n",
       "      <td>32</td>\n",
       "      <td>0.87</td>\n",
       "      <td>1.000</td>\n",
       "      <td>1.00</td>\n",
       "    </tr>\n",
       "    <tr>\n",
       "      <th>10</th>\n",
       "      <td>A17</td>\n",
       "      <td>80</td>\n",
       "      <td>m</td>\n",
       "      <td>амб</td>\n",
       "      <td>21</td>\n",
       "      <td>0.83</td>\n",
       "      <td>0.950</td>\n",
       "      <td>1.00</td>\n",
       "    </tr>\n",
       "    <tr>\n",
       "      <th>11</th>\n",
       "      <td>T10</td>\n",
       "      <td>81</td>\n",
       "      <td>m</td>\n",
       "      <td>правша</td>\n",
       "      <td>27</td>\n",
       "      <td>0.91</td>\n",
       "      <td>0.575</td>\n",
       "      <td>0.70</td>\n",
       "    </tr>\n",
       "    <tr>\n",
       "      <th>12</th>\n",
       "      <td>A02</td>\n",
       "      <td>83</td>\n",
       "      <td>m</td>\n",
       "      <td>правша</td>\n",
       "      <td>24</td>\n",
       "      <td>0.79</td>\n",
       "      <td>0.900</td>\n",
       "      <td>0.70</td>\n",
       "    </tr>\n",
       "    <tr>\n",
       "      <th>13</th>\n",
       "      <td>T05</td>\n",
       "      <td>83</td>\n",
       "      <td>m</td>\n",
       "      <td>правша</td>\n",
       "      <td>30</td>\n",
       "      <td>0.66</td>\n",
       "      <td>1.000</td>\n",
       "      <td>1.00</td>\n",
       "    </tr>\n",
       "    <tr>\n",
       "      <th>14</th>\n",
       "      <td>A15</td>\n",
       "      <td>83</td>\n",
       "      <td>f</td>\n",
       "      <td>правша</td>\n",
       "      <td>32</td>\n",
       "      <td>0.87</td>\n",
       "      <td>1.000</td>\n",
       "      <td>1.00</td>\n",
       "    </tr>\n",
       "  </tbody>\n",
       "</table>\n",
       "</div>"
      ],
      "text/plain": [
       "      ID  age_m gender     hand  Raven  RuTOPP_3_NWR  Rythms_repeat  \\\n",
       "0    T08     76      f   правша     12          0.83          0.850   \n",
       "1    A03     76      f   правша     19          0.91          0.950   \n",
       "2    T09     76      m    левша     19          0.75          0.900   \n",
       "3    A08     76      m      амб     21          0.83          0.900   \n",
       "4    A13     77      f   правша     20          0.95          1.000   \n",
       "5    A14     77      f    левша     19          0.75          0.700   \n",
       "6    T14     78      m   правша     17          0.75          0.950   \n",
       "7    A16     78      f   правша     30          0.75          0.900   \n",
       "8    T06     80      m   правша     26          0.91          0.900   \n",
       "9    A10     80      m   правша     32          0.87          1.000   \n",
       "10  A17      80      m      амб     21          0.83          0.950   \n",
       "11   T10     81      m   правша     27          0.91          0.575   \n",
       "12   A02     83      m   правша     24          0.79          0.900   \n",
       "13   T05     83      m  правша      30          0.66          1.000   \n",
       "14   A15     83      f   правша     32          0.87          1.000   \n",
       "\n",
       "    Rythms_instr  \n",
       "0           1.00  \n",
       "1           1.00  \n",
       "2           1.00  \n",
       "3           1.00  \n",
       "4           1.00  \n",
       "5           1.00  \n",
       "6           1.00  \n",
       "7           0.85  \n",
       "8           1.00  \n",
       "9           1.00  \n",
       "10          1.00  \n",
       "11          0.70  \n",
       "12          0.70  \n",
       "13          1.00  \n",
       "14          1.00  "
      ]
     },
     "execution_count": 66,
     "metadata": {},
     "output_type": "execute_result"
    }
   ],
   "source": [
    "df_gr2 = pd.read_csv(\"data_anya_group2.csv\") \n",
    "df_gr2"
   ]
  },
  {
   "cell_type": "code",
   "execution_count": 67,
   "metadata": {},
   "outputs": [
    {
     "data": {
      "text/plain": [
       "76"
      ]
     },
     "execution_count": 67,
     "metadata": {},
     "output_type": "execute_result"
    }
   ],
   "source": [
    "min(df_gr2['age_m']) #min"
   ]
  },
  {
   "cell_type": "code",
   "execution_count": 68,
   "metadata": {},
   "outputs": [
    {
     "data": {
      "text/plain": [
       "83"
      ]
     },
     "execution_count": 68,
     "metadata": {},
     "output_type": "execute_result"
    }
   ],
   "source": [
    "max(df_gr2['age_m']) #max"
   ]
  },
  {
   "cell_type": "code",
   "execution_count": 69,
   "metadata": {},
   "outputs": [
    {
     "data": {
      "text/plain": [
       "78.93333333333334"
      ]
     },
     "execution_count": 69,
     "metadata": {},
     "output_type": "execute_result"
    }
   ],
   "source": [
    "(df_gr2['age_m']).mean() #average"
   ]
  },
  {
   "cell_type": "code",
   "execution_count": 70,
   "metadata": {},
   "outputs": [
    {
     "data": {
      "text/plain": [
       "m    9\n",
       "f    6\n",
       "Name: gender, dtype: int64"
      ]
     },
     "execution_count": 70,
     "metadata": {},
     "output_type": "execute_result"
    }
   ],
   "source": [
    "df_gr2['gender'].value_counts() #gender"
   ]
  },
  {
   "cell_type": "code",
   "execution_count": 104,
   "metadata": {},
   "outputs": [
    {
     "data": {
      "text/plain": [
       "2.594010194445829"
      ]
     },
     "execution_count": 104,
     "metadata": {},
     "output_type": "execute_result"
    }
   ],
   "source": [
    "np.std(df_gr2[\"age_m\"]) #SD"
   ]
  },
  {
   "cell_type": "markdown",
   "metadata": {},
   "source": [
    "переменные:"
   ]
  },
  {
   "cell_type": "code",
   "execution_count": 71,
   "metadata": {},
   "outputs": [],
   "source": [
    "x2 = df_gr2['RuTOPP_3_NWR'] #повторение псевдослов\n",
    "y2 = df_gr2['Rythms_repeat'] #повторение ритмов\n",
    "z2 = df_gr2['Rythms_instr'] #ритмы по инструкции"
   ]
  },
  {
   "cell_type": "markdown",
   "metadata": {},
   "source": [
    "Тест Шапиро-Уилка:"
   ]
  },
  {
   "cell_type": "code",
   "execution_count": 72,
   "metadata": {},
   "outputs": [
    {
     "name": "stdout",
     "output_type": "stream",
     "text": [
      "ShapiroResult(statistic=0.9454013705253601, pvalue=0.4551388621330261)\n",
      "Sample looks Gaussian\n"
     ]
    }
   ],
   "source": [
    "print(stats.shapiro(x2))\n",
    "\n",
    "if stats.shapiro(x2)[1] > 0.05:\n",
    "    print(\"Sample looks Gaussian\")\n",
    "else:\n",
    "    print(\"Sample does not look Gaussian\")"
   ]
  },
  {
   "cell_type": "code",
   "execution_count": 73,
   "metadata": {},
   "outputs": [
    {
     "data": {
      "image/png": "[encoded data removed]",
      "text/plain": [
       "<Figure size 432x288 with 1 Axes>"
      ]
     },
     "metadata": {
      "needs_background": "light"
     },
     "output_type": "display_data"
    }
   ],
   "source": [
    "x2.hist(bins=5)\n",
    "plt.xlabel('значение')\n",
    "plt.ylabel('Частота')\n",
    "plt.show()"
   ]
  },
  {
   "cell_type": "code",
   "execution_count": 74,
   "metadata": {},
   "outputs": [
    {
     "name": "stdout",
     "output_type": "stream",
     "text": [
      "ShapiroResult(statistic=0.7682278752326965, pvalue=0.001479155384004116)\n",
      "Sample does not look Gaussian\n"
     ]
    }
   ],
   "source": [
    "print(stats.shapiro(y2))\n",
    "\n",
    "if stats.shapiro(y2)[1] > 0.05:\n",
    "    print(\"Sample looks Gaussian\")\n",
    "else:\n",
    "    print(\"Sample does not look Gaussian\")"
   ]
  },
  {
   "cell_type": "code",
   "execution_count": 75,
   "metadata": {},
   "outputs": [
    {
     "data": {
      "image/png": "[encoded data removed]",
      "text/plain": [
       "<Figure size 432x288 with 1 Axes>"
      ]
     },
     "metadata": {
      "needs_background": "light"
     },
     "output_type": "display_data"
    }
   ],
   "source": [
    "y2.hist(bins=5)\n",
    "plt.xlabel('значение')\n",
    "plt.ylabel('Частота')\n",
    "plt.show()"
   ]
  },
  {
   "cell_type": "code",
   "execution_count": 76,
   "metadata": {},
   "outputs": [
    {
     "name": "stdout",
     "output_type": "stream",
     "text": [
      "ShapiroResult(statistic=0.5136044025421143, pvalue=4.537997028819518e-06)\n",
      "Sample does not look Gaussian\n"
     ]
    }
   ],
   "source": [
    "print(stats.shapiro(z2))\n",
    "\n",
    "if stats.shapiro(z2)[1] > 0.05:\n",
    "    print(\"Sample looks Gaussian\")\n",
    "else:\n",
    "    print(\"Sample does not look Gaussian\")"
   ]
  },
  {
   "cell_type": "code",
   "execution_count": 77,
   "metadata": {},
   "outputs": [
    {
     "data": {
      "image/png": "[encoded data removed]",
      "text/plain": [
       "<Figure size 432x288 with 1 Axes>"
      ]
     },
     "metadata": {
      "needs_background": "light"
     },
     "output_type": "display_data"
    }
   ],
   "source": [
    "z2.hist(bins=5)\n",
    "plt.xlabel('значение')\n",
    "plt.ylabel('Частота')\n",
    "plt.show()"
   ]
  },
  {
   "cell_type": "markdown",
   "metadata": {},
   "source": [
    "проверка корреляции:"
   ]
  },
  {
   "cell_type": "code",
   "execution_count": 78,
   "metadata": {},
   "outputs": [
    {
     "data": {
      "text/plain": [
       "SpearmanrResult(correlation=0.12184896708369035, pvalue=0.6653081135599539)"
      ]
     },
     "execution_count": 78,
     "metadata": {},
     "output_type": "execute_result"
    }
   ],
   "source": [
    "stats.spearmanr(x2, y2)"
   ]
  },
  {
   "cell_type": "code",
   "execution_count": 79,
   "metadata": {},
   "outputs": [
    {
     "data": {
      "image/png": "[encoded data removed]",
      "text/plain": [
       "<Figure size 432x288 with 1 Axes>"
      ]
     },
     "metadata": {
      "needs_background": "light"
     },
     "output_type": "display_data"
    }
   ],
   "source": [
    "plt.scatter(x2, y2)\n",
    "plt.xlabel('повторение псевдослов')\n",
    "plt.ylabel('повторение ритмов')\n",
    "plt.show()"
   ]
  },
  {
   "cell_type": "code",
   "execution_count": 80,
   "metadata": {},
   "outputs": [
    {
     "data": {
      "text/plain": [
       "SpearmanrResult(correlation=0.02732180220759411, pvalue=0.9230013196410096)"
      ]
     },
     "execution_count": 80,
     "metadata": {},
     "output_type": "execute_result"
    }
   ],
   "source": [
    "stats.spearmanr(x2, z2)"
   ]
  },
  {
   "cell_type": "code",
   "execution_count": 81,
   "metadata": {},
   "outputs": [
    {
     "data": {
      "image/png": "[encoded data removed]",
      "text/plain": [
       "<Figure size 432x288 with 1 Axes>"
      ]
     },
     "metadata": {
      "needs_background": "light"
     },
     "output_type": "display_data"
    }
   ],
   "source": [
    "plt.scatter(x2, z2)\n",
    "plt.xlabel('повторение псевдослов')\n",
    "plt.ylabel('ритмы по инструкции')\n",
    "plt.show()"
   ]
  },
  {
   "cell_type": "markdown",
   "metadata": {},
   "source": [
    "## гендер"
   ]
  },
  {
   "cell_type": "code",
   "execution_count": 82,
   "metadata": {},
   "outputs": [
    {
     "data": {
      "text/html": [
       "<div>\n",
       "<style scoped>\n",
       "    .dataframe tbody tr th:only-of-type {\n",
       "        vertical-align: middle;\n",
       "    }\n",
       "\n",
       "    .dataframe tbody tr th {\n",
       "        vertical-align: top;\n",
       "    }\n",
       "\n",
       "    .dataframe thead th {\n",
       "        text-align: right;\n",
       "    }\n",
       "</style>\n",
       "<table border=\"1\" class=\"dataframe\">\n",
       "  <thead>\n",
       "    <tr style=\"text-align: right;\">\n",
       "      <th></th>\n",
       "      <th>ID</th>\n",
       "      <th>age_m</th>\n",
       "      <th>gender</th>\n",
       "      <th>hand</th>\n",
       "      <th>Raven</th>\n",
       "      <th>RuTOPP_3_NWR</th>\n",
       "      <th>Rythms_repeat</th>\n",
       "      <th>Rythms_instr</th>\n",
       "    </tr>\n",
       "  </thead>\n",
       "  <tbody>\n",
       "    <tr>\n",
       "      <th>0</th>\n",
       "      <td>A07</td>\n",
       "      <td>70</td>\n",
       "      <td>m</td>\n",
       "      <td>правша</td>\n",
       "      <td>18</td>\n",
       "      <td>0.79</td>\n",
       "      <td>0.950</td>\n",
       "      <td>0.6</td>\n",
       "    </tr>\n",
       "    <tr>\n",
       "      <th>1</th>\n",
       "      <td>T13</td>\n",
       "      <td>70</td>\n",
       "      <td>m</td>\n",
       "      <td>правша</td>\n",
       "      <td>23</td>\n",
       "      <td>0.58</td>\n",
       "      <td>0.800</td>\n",
       "      <td>1.0</td>\n",
       "    </tr>\n",
       "    <tr>\n",
       "      <th>2</th>\n",
       "      <td>T16</td>\n",
       "      <td>70</td>\n",
       "      <td>m</td>\n",
       "      <td>правша</td>\n",
       "      <td>25,5</td>\n",
       "      <td>0.79</td>\n",
       "      <td>0.975</td>\n",
       "      <td>1.0</td>\n",
       "    </tr>\n",
       "    <tr>\n",
       "      <th>3</th>\n",
       "      <td>S02</td>\n",
       "      <td>71</td>\n",
       "      <td>m</td>\n",
       "      <td>правша</td>\n",
       "      <td>23</td>\n",
       "      <td>0.78</td>\n",
       "      <td>0.900</td>\n",
       "      <td>0.9</td>\n",
       "    </tr>\n",
       "    <tr>\n",
       "      <th>4</th>\n",
       "      <td>A05</td>\n",
       "      <td>71</td>\n",
       "      <td>m</td>\n",
       "      <td>правша</td>\n",
       "      <td>22</td>\n",
       "      <td>0.83</td>\n",
       "      <td>1.000</td>\n",
       "      <td>1.0</td>\n",
       "    </tr>\n",
       "    <tr>\n",
       "      <th>5</th>\n",
       "      <td>А12</td>\n",
       "      <td>71</td>\n",
       "      <td>m</td>\n",
       "      <td>правша</td>\n",
       "      <td>19</td>\n",
       "      <td>0.87</td>\n",
       "      <td>1.000</td>\n",
       "      <td>0.9</td>\n",
       "    </tr>\n",
       "    <tr>\n",
       "      <th>6</th>\n",
       "      <td>T17</td>\n",
       "      <td>71</td>\n",
       "      <td>m</td>\n",
       "      <td>левша</td>\n",
       "      <td>22</td>\n",
       "      <td>0.95</td>\n",
       "      <td>0.950</td>\n",
       "      <td>1.0</td>\n",
       "    </tr>\n",
       "    <tr>\n",
       "      <th>7</th>\n",
       "      <td>T11</td>\n",
       "      <td>72</td>\n",
       "      <td>m</td>\n",
       "      <td>правша</td>\n",
       "      <td>17</td>\n",
       "      <td>0.70</td>\n",
       "      <td>0.850</td>\n",
       "      <td>1.0</td>\n",
       "    </tr>\n",
       "    <tr>\n",
       "      <th>8</th>\n",
       "      <td>А11</td>\n",
       "      <td>73</td>\n",
       "      <td>m</td>\n",
       "      <td>амб</td>\n",
       "      <td>26</td>\n",
       "      <td>0.87</td>\n",
       "      <td>1.000</td>\n",
       "      <td>1.0</td>\n",
       "    </tr>\n",
       "    <tr>\n",
       "      <th>9</th>\n",
       "      <td>T02</td>\n",
       "      <td>74</td>\n",
       "      <td>m</td>\n",
       "      <td>амб</td>\n",
       "      <td>20</td>\n",
       "      <td>0.70</td>\n",
       "      <td>0.900</td>\n",
       "      <td>NaN</td>\n",
       "    </tr>\n",
       "    <tr>\n",
       "      <th>10</th>\n",
       "      <td>A04</td>\n",
       "      <td>74</td>\n",
       "      <td>m</td>\n",
       "      <td>правша</td>\n",
       "      <td>30</td>\n",
       "      <td>0.91</td>\n",
       "      <td>1.000</td>\n",
       "      <td>1.0</td>\n",
       "    </tr>\n",
       "    <tr>\n",
       "      <th>11</th>\n",
       "      <td>T09</td>\n",
       "      <td>76</td>\n",
       "      <td>m</td>\n",
       "      <td>левша</td>\n",
       "      <td>19</td>\n",
       "      <td>0.75</td>\n",
       "      <td>0.900</td>\n",
       "      <td>1.0</td>\n",
       "    </tr>\n",
       "    <tr>\n",
       "      <th>12</th>\n",
       "      <td>A08</td>\n",
       "      <td>76</td>\n",
       "      <td>m</td>\n",
       "      <td>амб</td>\n",
       "      <td>21</td>\n",
       "      <td>0.83</td>\n",
       "      <td>0.900</td>\n",
       "      <td>1.0</td>\n",
       "    </tr>\n",
       "    <tr>\n",
       "      <th>13</th>\n",
       "      <td>T14</td>\n",
       "      <td>78</td>\n",
       "      <td>m</td>\n",
       "      <td>правша</td>\n",
       "      <td>17</td>\n",
       "      <td>0.75</td>\n",
       "      <td>0.950</td>\n",
       "      <td>1.0</td>\n",
       "    </tr>\n",
       "    <tr>\n",
       "      <th>14</th>\n",
       "      <td>T06</td>\n",
       "      <td>80</td>\n",
       "      <td>m</td>\n",
       "      <td>правша</td>\n",
       "      <td>26</td>\n",
       "      <td>0.91</td>\n",
       "      <td>0.900</td>\n",
       "      <td>1.0</td>\n",
       "    </tr>\n",
       "    <tr>\n",
       "      <th>15</th>\n",
       "      <td>A10</td>\n",
       "      <td>80</td>\n",
       "      <td>m</td>\n",
       "      <td>правша</td>\n",
       "      <td>32</td>\n",
       "      <td>0.87</td>\n",
       "      <td>1.000</td>\n",
       "      <td>1.0</td>\n",
       "    </tr>\n",
       "    <tr>\n",
       "      <th>16</th>\n",
       "      <td>A17</td>\n",
       "      <td>80</td>\n",
       "      <td>m</td>\n",
       "      <td>амб</td>\n",
       "      <td>21</td>\n",
       "      <td>0.83</td>\n",
       "      <td>0.950</td>\n",
       "      <td>1.0</td>\n",
       "    </tr>\n",
       "    <tr>\n",
       "      <th>17</th>\n",
       "      <td>T10</td>\n",
       "      <td>81</td>\n",
       "      <td>m</td>\n",
       "      <td>правша</td>\n",
       "      <td>27</td>\n",
       "      <td>0.91</td>\n",
       "      <td>0.575</td>\n",
       "      <td>0.7</td>\n",
       "    </tr>\n",
       "    <tr>\n",
       "      <th>18</th>\n",
       "      <td>A02</td>\n",
       "      <td>83</td>\n",
       "      <td>m</td>\n",
       "      <td>правша</td>\n",
       "      <td>24</td>\n",
       "      <td>0.79</td>\n",
       "      <td>0.900</td>\n",
       "      <td>0.7</td>\n",
       "    </tr>\n",
       "    <tr>\n",
       "      <th>19</th>\n",
       "      <td>T05</td>\n",
       "      <td>83</td>\n",
       "      <td>m</td>\n",
       "      <td>правша</td>\n",
       "      <td>30</td>\n",
       "      <td>0.66</td>\n",
       "      <td>1.000</td>\n",
       "      <td>1.0</td>\n",
       "    </tr>\n",
       "  </tbody>\n",
       "</table>\n",
       "</div>"
      ],
      "text/plain": [
       "      ID  age_m gender     hand Raven  RuTOPP_3_NWR  Rythms_repeat  \\\n",
       "0    A07     70      m   правша    18          0.79          0.950   \n",
       "1    T13     70      m   правша    23          0.58          0.800   \n",
       "2    T16     70      m   правша  25,5          0.79          0.975   \n",
       "3    S02     71      m   правша    23          0.78          0.900   \n",
       "4    A05     71      m   правша    22          0.83          1.000   \n",
       "5    А12     71      m   правша    19          0.87          1.000   \n",
       "6    T17     71      m    левша    22          0.95          0.950   \n",
       "7    T11     72      m   правша    17          0.70          0.850   \n",
       "8    А11     73      m      амб    26          0.87          1.000   \n",
       "9    T02     74      m      амб    20          0.70          0.900   \n",
       "10   A04     74      m   правша    30          0.91          1.000   \n",
       "11   T09     76      m    левша    19          0.75          0.900   \n",
       "12   A08     76      m      амб    21          0.83          0.900   \n",
       "13   T14     78      m   правша    17          0.75          0.950   \n",
       "14   T06     80      m   правша    26          0.91          0.900   \n",
       "15   A10     80      m   правша    32          0.87          1.000   \n",
       "16  A17      80      m      амб    21          0.83          0.950   \n",
       "17   T10     81      m   правша    27          0.91          0.575   \n",
       "18   A02     83      m   правша    24          0.79          0.900   \n",
       "19   T05     83      m  правша     30          0.66          1.000   \n",
       "\n",
       "    Rythms_instr  \n",
       "0            0.6  \n",
       "1            1.0  \n",
       "2            1.0  \n",
       "3            0.9  \n",
       "4            1.0  \n",
       "5            0.9  \n",
       "6            1.0  \n",
       "7            1.0  \n",
       "8            1.0  \n",
       "9            NaN  \n",
       "10           1.0  \n",
       "11           1.0  \n",
       "12           1.0  \n",
       "13           1.0  \n",
       "14           1.0  \n",
       "15           1.0  \n",
       "16           1.0  \n",
       "17           0.7  \n",
       "18           0.7  \n",
       "19           1.0  "
      ]
     },
     "execution_count": 82,
     "metadata": {},
     "output_type": "execute_result"
    }
   ],
   "source": [
    "df_m = pd.read_csv(\"data_anya_m.csv\") #boys\n",
    "df_m"
   ]
  },
  {
   "cell_type": "code",
   "execution_count": 83,
   "metadata": {},
   "outputs": [
    {
     "data": {
      "text/html": [
       "<div>\n",
       "<style scoped>\n",
       "    .dataframe tbody tr th:only-of-type {\n",
       "        vertical-align: middle;\n",
       "    }\n",
       "\n",
       "    .dataframe tbody tr th {\n",
       "        vertical-align: top;\n",
       "    }\n",
       "\n",
       "    .dataframe thead th {\n",
       "        text-align: right;\n",
       "    }\n",
       "</style>\n",
       "<table border=\"1\" class=\"dataframe\">\n",
       "  <thead>\n",
       "    <tr style=\"text-align: right;\">\n",
       "      <th></th>\n",
       "      <th>ID</th>\n",
       "      <th>age_m</th>\n",
       "      <th>gender</th>\n",
       "      <th>hand</th>\n",
       "      <th>Raven</th>\n",
       "      <th>RuTOPP_3_NWR</th>\n",
       "      <th>Rythms_repeat</th>\n",
       "      <th>Rythms_instr</th>\n",
       "    </tr>\n",
       "  </thead>\n",
       "  <tbody>\n",
       "    <tr>\n",
       "      <th>0</th>\n",
       "      <td>A06</td>\n",
       "      <td>68</td>\n",
       "      <td>f</td>\n",
       "      <td>левша</td>\n",
       "      <td>26</td>\n",
       "      <td>0.83</td>\n",
       "      <td>0.90</td>\n",
       "      <td>1.00</td>\n",
       "    </tr>\n",
       "    <tr>\n",
       "      <th>1</th>\n",
       "      <td>T03</td>\n",
       "      <td>70</td>\n",
       "      <td>f</td>\n",
       "      <td>правша</td>\n",
       "      <td>29</td>\n",
       "      <td>0.75</td>\n",
       "      <td>0.95</td>\n",
       "      <td>1.00</td>\n",
       "    </tr>\n",
       "    <tr>\n",
       "      <th>2</th>\n",
       "      <td>A01</td>\n",
       "      <td>71</td>\n",
       "      <td>f</td>\n",
       "      <td>правша</td>\n",
       "      <td>13</td>\n",
       "      <td>0.58</td>\n",
       "      <td>0.90</td>\n",
       "      <td>0.50</td>\n",
       "    </tr>\n",
       "    <tr>\n",
       "      <th>3</th>\n",
       "      <td>T15</td>\n",
       "      <td>73</td>\n",
       "      <td>f</td>\n",
       "      <td>левша</td>\n",
       "      <td>22</td>\n",
       "      <td>0.87</td>\n",
       "      <td>0.95</td>\n",
       "      <td>1.00</td>\n",
       "    </tr>\n",
       "    <tr>\n",
       "      <th>4</th>\n",
       "      <td>T08</td>\n",
       "      <td>76</td>\n",
       "      <td>f</td>\n",
       "      <td>правша</td>\n",
       "      <td>12</td>\n",
       "      <td>0.83</td>\n",
       "      <td>0.85</td>\n",
       "      <td>1.00</td>\n",
       "    </tr>\n",
       "    <tr>\n",
       "      <th>5</th>\n",
       "      <td>A03</td>\n",
       "      <td>76</td>\n",
       "      <td>f</td>\n",
       "      <td>правша</td>\n",
       "      <td>19</td>\n",
       "      <td>0.91</td>\n",
       "      <td>0.95</td>\n",
       "      <td>1.00</td>\n",
       "    </tr>\n",
       "    <tr>\n",
       "      <th>6</th>\n",
       "      <td>A13</td>\n",
       "      <td>77</td>\n",
       "      <td>f</td>\n",
       "      <td>правша</td>\n",
       "      <td>20</td>\n",
       "      <td>0.95</td>\n",
       "      <td>1.00</td>\n",
       "      <td>1.00</td>\n",
       "    </tr>\n",
       "    <tr>\n",
       "      <th>7</th>\n",
       "      <td>A14</td>\n",
       "      <td>77</td>\n",
       "      <td>f</td>\n",
       "      <td>левша</td>\n",
       "      <td>19</td>\n",
       "      <td>0.75</td>\n",
       "      <td>0.70</td>\n",
       "      <td>1.00</td>\n",
       "    </tr>\n",
       "    <tr>\n",
       "      <th>8</th>\n",
       "      <td>A16</td>\n",
       "      <td>78</td>\n",
       "      <td>f</td>\n",
       "      <td>правша</td>\n",
       "      <td>30</td>\n",
       "      <td>0.75</td>\n",
       "      <td>0.90</td>\n",
       "      <td>0.85</td>\n",
       "    </tr>\n",
       "    <tr>\n",
       "      <th>9</th>\n",
       "      <td>A15</td>\n",
       "      <td>83</td>\n",
       "      <td>f</td>\n",
       "      <td>правша</td>\n",
       "      <td>32</td>\n",
       "      <td>0.87</td>\n",
       "      <td>1.00</td>\n",
       "      <td>1.00</td>\n",
       "    </tr>\n",
       "  </tbody>\n",
       "</table>\n",
       "</div>"
      ],
      "text/plain": [
       "    ID  age_m gender    hand  Raven  RuTOPP_3_NWR  Rythms_repeat  Rythms_instr\n",
       "0  A06     68      f   левша     26          0.83           0.90          1.00\n",
       "1  T03     70      f  правша     29          0.75           0.95          1.00\n",
       "2  A01     71      f  правша     13          0.58           0.90          0.50\n",
       "3  T15     73      f   левша     22          0.87           0.95          1.00\n",
       "4  T08     76      f  правша     12          0.83           0.85          1.00\n",
       "5  A03     76      f  правша     19          0.91           0.95          1.00\n",
       "6  A13     77      f  правша     20          0.95           1.00          1.00\n",
       "7  A14     77      f   левша     19          0.75           0.70          1.00\n",
       "8  A16     78      f  правша     30          0.75           0.90          0.85\n",
       "9  A15     83      f  правша     32          0.87           1.00          1.00"
      ]
     },
     "execution_count": 83,
     "metadata": {},
     "output_type": "execute_result"
    }
   ],
   "source": [
    "df_f = pd.read_csv(\"data_anya_f.csv\") #girls\n",
    "df_f"
   ]
  },
  {
   "cell_type": "code",
   "execution_count": 84,
   "metadata": {},
   "outputs": [
    {
     "data": {
      "text/plain": [
       "74.9"
      ]
     },
     "execution_count": 84,
     "metadata": {},
     "output_type": "execute_result"
    }
   ],
   "source": [
    "(df_f['age_m']).mean() #average girls"
   ]
  },
  {
   "cell_type": "code",
   "execution_count": 85,
   "metadata": {},
   "outputs": [
    {
     "data": {
      "text/plain": [
       "68"
      ]
     },
     "execution_count": 85,
     "metadata": {},
     "output_type": "execute_result"
    }
   ],
   "source": [
    "min((df_f['age_m'])) #min girls"
   ]
  },
  {
   "cell_type": "code",
   "execution_count": 86,
   "metadata": {},
   "outputs": [
    {
     "data": {
      "text/plain": [
       "83"
      ]
     },
     "execution_count": 86,
     "metadata": {},
     "output_type": "execute_result"
    }
   ],
   "source": [
    "max(df_f['age_m']) #max girls"
   ]
  },
  {
   "cell_type": "code",
   "execution_count": 87,
   "metadata": {},
   "outputs": [
    {
     "data": {
      "text/plain": [
       "75.2"
      ]
     },
     "execution_count": 87,
     "metadata": {},
     "output_type": "execute_result"
    }
   ],
   "source": [
    "(df_m['age_m']).mean() #average boys"
   ]
  },
  {
   "cell_type": "code",
   "execution_count": 88,
   "metadata": {},
   "outputs": [
    {
     "data": {
      "text/plain": [
       "70"
      ]
     },
     "execution_count": 88,
     "metadata": {},
     "output_type": "execute_result"
    }
   ],
   "source": [
    "min(df_m['age_m']) #min boys"
   ]
  },
  {
   "cell_type": "code",
   "execution_count": 89,
   "metadata": {},
   "outputs": [
    {
     "data": {
      "text/plain": [
       "83"
      ]
     },
     "execution_count": 89,
     "metadata": {},
     "output_type": "execute_result"
    }
   ],
   "source": [
    "max(df_m['age_m']) #max boys"
   ]
  },
  {
   "cell_type": "code",
   "execution_count": 90,
   "metadata": {},
   "outputs": [
    {
     "data": {
      "text/plain": [
       "4.205948168962618"
      ]
     },
     "execution_count": 90,
     "metadata": {},
     "output_type": "execute_result"
    }
   ],
   "source": [
    "np.std(df_f[\"age_m\"]) #SD girls"
   ]
  },
  {
   "cell_type": "code",
   "execution_count": 92,
   "metadata": {},
   "outputs": [
    {
     "data": {
      "text/plain": [
       "4.489988864128729"
      ]
     },
     "execution_count": 92,
     "metadata": {},
     "output_type": "execute_result"
    }
   ],
   "source": [
    "np.std(df_m[\"age_m\"]) #SD boys"
   ]
  },
  {
   "cell_type": "markdown",
   "metadata": {},
   "source": [
    "переменные:"
   ]
  },
  {
   "cell_type": "code",
   "execution_count": 93,
   "metadata": {},
   "outputs": [],
   "source": [
    "xm = df_m['RuTOPP_3_NWR'] #повторение псевдослов мальчики\n",
    "ym = df_m['Rythms_repeat'] #повторение ритмов мальчики\n",
    "zm = df_m['Rythms_instr'] #ритмы по инструкции мальчики"
   ]
  },
  {
   "cell_type": "code",
   "execution_count": 94,
   "metadata": {},
   "outputs": [],
   "source": [
    "xf = df_f['RuTOPP_3_NWR'] #повторение псевдослов девочки\n",
    "yf = df_f['Rythms_repeat'] #повторение ритмов девочки\n",
    "zf = df_f['Rythms_instr'] #ритмы по инструкции девочки"
   ]
  },
  {
   "cell_type": "markdown",
   "metadata": {},
   "source": [
    "Тест Шапиро-Уилка:"
   ]
  },
  {
   "cell_type": "code",
   "execution_count": 95,
   "metadata": {},
   "outputs": [
    {
     "name": "stdout",
     "output_type": "stream",
     "text": [
      "ShapiroResult(statistic=0.9597595930099487, pvalue=0.5390571355819702)\n",
      "Sample looks Gaussian\n"
     ]
    }
   ],
   "source": [
    "print(stats.shapiro(xm))\n",
    "\n",
    "if stats.shapiro(xm)[1] > 0.05:\n",
    "    print(\"Sample looks Gaussian\")\n",
    "else:\n",
    "    print(\"Sample does not look Gaussian\")"
   ]
  },
  {
   "cell_type": "code",
   "execution_count": 96,
   "metadata": {},
   "outputs": [
    {
     "name": "stdout",
     "output_type": "stream",
     "text": [
      "ShapiroResult(statistic=0.7299520969390869, pvalue=9.253416646970436e-05)\n",
      "Sample does not look Gaussian\n"
     ]
    }
   ],
   "source": [
    "print(stats.shapiro(ym))\n",
    "\n",
    "if stats.shapiro(ym)[1] > 0.05:\n",
    "    print(\"Sample looks Gaussian\")\n",
    "else:\n",
    "    print(\"Sample does not look Gaussian\")"
   ]
  },
  {
   "cell_type": "code",
   "execution_count": 97,
   "metadata": {},
   "outputs": [
    {
     "name": "stdout",
     "output_type": "stream",
     "text": [
      "ShapiroResult(statistic=0.5714584589004517, pvalue=2.3127747681428446e-06)\n",
      "Sample does not look Gaussian\n"
     ]
    }
   ],
   "source": [
    "print(stats.shapiro(zm.dropna()))\n",
    "\n",
    "if stats.shapiro(zm.dropna())[1] > 0.05:\n",
    "    print(\"Sample looks Gaussian\")\n",
    "else:\n",
    "    print(\"Sample does not look Gaussian\")"
   ]
  },
  {
   "cell_type": "code",
   "execution_count": 98,
   "metadata": {},
   "outputs": [
    {
     "name": "stdout",
     "output_type": "stream",
     "text": [
      "ShapiroResult(statistic=0.9206104874610901, pvalue=0.36207476258277893)\n",
      "Sample looks Gaussian\n"
     ]
    }
   ],
   "source": [
    "print(stats.shapiro(xf))\n",
    "\n",
    "if stats.shapiro(xf)[1] > 0.05:\n",
    "    print(\"Sample looks Gaussian\")\n",
    "else:\n",
    "    print(\"Sample does not look Gaussian\")"
   ]
  },
  {
   "cell_type": "code",
   "execution_count": 99,
   "metadata": {},
   "outputs": [
    {
     "name": "stdout",
     "output_type": "stream",
     "text": [
      "ShapiroResult(statistic=0.8370194435119629, pvalue=0.040638409554958344)\n",
      "Sample does not look Gaussian\n"
     ]
    }
   ],
   "source": [
    "print(stats.shapiro(yf))\n",
    "\n",
    "if stats.shapiro(yf)[1] > 0.05:\n",
    "    print(\"Sample looks Gaussian\")\n",
    "else:\n",
    "    print(\"Sample does not look Gaussian\")"
   ]
  },
  {
   "cell_type": "code",
   "execution_count": 100,
   "metadata": {},
   "outputs": [
    {
     "name": "stdout",
     "output_type": "stream",
     "text": [
      "ShapiroResult(statistic=0.4909113943576813, pvalue=2.8459999157348648e-06)\n",
      "Sample does not look Gaussian\n"
     ]
    }
   ],
   "source": [
    "print(stats.shapiro(zf))\n",
    "\n",
    "if stats.shapiro(zf)[1] > 0.05:\n",
    "    print(\"Sample looks Gaussian\")\n",
    "else:\n",
    "    print(\"Sample does not look Gaussian\")"
   ]
  },
  {
   "cell_type": "markdown",
   "metadata": {},
   "source": [
    "проверка корреляции:"
   ]
  },
  {
   "cell_type": "code",
   "execution_count": 101,
   "metadata": {},
   "outputs": [
    {
     "data": {
      "text/plain": [
       "SpearmanrResult(correlation=0.2986823196119591, pvalue=0.20083356865888596)"
      ]
     },
     "execution_count": 101,
     "metadata": {},
     "output_type": "execute_result"
    }
   ],
   "source": [
    "stats.spearmanr(xm, ym)"
   ]
  },
  {
   "cell_type": "code",
   "execution_count": 102,
   "metadata": {},
   "outputs": [
    {
     "name": "stdout",
     "output_type": "stream",
     "text": [
      "Samples are uncorrelated; p = 0.20083356865888596\n"
     ]
    }
   ],
   "source": [
    "cor_sp(stats.spearmanr(xm, ym)[1])"
   ]
  },
  {
   "cell_type": "code",
   "execution_count": 128,
   "metadata": {},
   "outputs": [
    {
     "data": {
      "image/png": "[encoded data removed]",
      "text/plain": [
       "<Figure size 432x288 with 1 Axes>"
      ]
     },
     "metadata": {
      "needs_background": "light"
     },
     "output_type": "display_data"
    }
   ],
   "source": [
    "plt.scatter(xm, ym)\n",
    "plt.xlabel('повторение псевдослов')\n",
    "plt.ylabel('повторение ритмов')\n",
    "plt.show()"
   ]
  },
  {
   "cell_type": "code",
   "execution_count": 129,
   "metadata": {},
   "outputs": [
    {
     "data": {
      "text/plain": [
       "SpearmanrResult(correlation=-0.06165858158559223, pvalue=0.8020031392373543)"
      ]
     },
     "execution_count": 129,
     "metadata": {},
     "output_type": "execute_result"
    }
   ],
   "source": [
    "stats.spearmanr(xm.drop(9), zm.dropna())"
   ]
  },
  {
   "cell_type": "code",
   "execution_count": 130,
   "metadata": {},
   "outputs": [
    {
     "name": "stdout",
     "output_type": "stream",
     "text": [
      "Samples are uncorrelated; p = 0.8020031392373543\n"
     ]
    }
   ],
   "source": [
    "cor_sp(stats.spearmanr(xm.drop(9), zm.dropna())[1])"
   ]
  },
  {
   "cell_type": "code",
   "execution_count": 131,
   "metadata": {},
   "outputs": [
    {
     "data": {
      "image/png": "[encoded data removed]",
      "text/plain": [
       "<Figure size 432x288 with 1 Axes>"
      ]
     },
     "metadata": {
      "needs_background": "light"
     },
     "output_type": "display_data"
    }
   ],
   "source": [
    "plt.scatter(xm, zm)\n",
    "plt.xlabel('повторение псевдослов')\n",
    "plt.ylabel('ритмы по инструкции')\n",
    "plt.show()"
   ]
  },
  {
   "cell_type": "code",
   "execution_count": 132,
   "metadata": {},
   "outputs": [
    {
     "data": {
      "text/plain": [
       "SpearmanrResult(correlation=0.663522155882196, pvalue=0.0364580624640222)"
      ]
     },
     "execution_count": 132,
     "metadata": {},
     "output_type": "execute_result"
    }
   ],
   "source": [
    "stats.spearmanr(xf, yf)"
   ]
  },
  {
   "cell_type": "code",
   "execution_count": 133,
   "metadata": {},
   "outputs": [
    {
     "name": "stdout",
     "output_type": "stream",
     "text": [
      "Samples are correlated; p = 0.0364580624640222\n"
     ]
    }
   ],
   "source": [
    "cor_sp(stats.spearmanr(xf, yf)[1])"
   ]
  },
  {
   "cell_type": "code",
   "execution_count": 134,
   "metadata": {},
   "outputs": [
    {
     "data": {
      "image/png": "[encoded data removed]",
      "text/plain": [
       "<Figure size 432x288 with 1 Axes>"
      ]
     },
     "metadata": {
      "needs_background": "light"
     },
     "output_type": "display_data"
    }
   ],
   "source": [
    "plt.scatter(xf, yf)\n",
    "plt.xlabel('повторение псевдослов')\n",
    "plt.ylabel('повторение ритмов')\n",
    "plt.show()"
   ]
  },
  {
   "cell_type": "code",
   "execution_count": 136,
   "metadata": {},
   "outputs": [
    {
     "data": {
      "text/plain": [
       "SpearmanrResult(correlation=0.6344412685745154, pvalue=0.048803184065713594)"
      ]
     },
     "execution_count": 136,
     "metadata": {},
     "output_type": "execute_result"
    }
   ],
   "source": [
    "stats.spearmanr(xf, zf)"
   ]
  },
  {
   "cell_type": "code",
   "execution_count": 137,
   "metadata": {},
   "outputs": [
    {
     "name": "stdout",
     "output_type": "stream",
     "text": [
      "Samples are correlated; p = 0.048803184065713594\n"
     ]
    }
   ],
   "source": [
    "cor_sp(stats.spearmanr(xf, zf)[1])"
   ]
  },
  {
   "cell_type": "code",
   "execution_count": 138,
   "metadata": {},
   "outputs": [
    {
     "data": {
      "image/png": "[encoded data removed]",
      "text/plain": [
       "<Figure size 432x288 with 1 Axes>"
      ]
     },
     "metadata": {
      "needs_background": "light"
     },
     "output_type": "display_data"
    }
   ],
   "source": [
    "plt.scatter(xf, zf)\n",
    "plt.xlabel('повторение псевдослов')\n",
    "plt.ylabel('ритмы по инструкции')\n",
    "plt.show()"
   ]
  },
  {
   "cell_type": "markdown",
   "metadata": {},
   "source": [
    "## возраст и гендер"
   ]
  },
  {
   "cell_type": "code",
   "execution_count": 9,
   "metadata": {},
   "outputs": [],
   "source": [
    "def descript(dp):\n",
    "    print(min(dp))\n",
    "    print(max(dp))\n",
    "    print((dp).mean())\n",
    "    print(np.std(dp))"
   ]
  },
  {
   "cell_type": "markdown",
   "metadata": {},
   "source": [
    "младшая возрастная группа, девочки"
   ]
  },
  {
   "cell_type": "code",
   "execution_count": 5,
   "metadata": {},
   "outputs": [
    {
     "data": {
      "text/html": [
       "<div>\n",
       "<style scoped>\n",
       "    .dataframe tbody tr th:only-of-type {\n",
       "        vertical-align: middle;\n",
       "    }\n",
       "\n",
       "    .dataframe tbody tr th {\n",
       "        vertical-align: top;\n",
       "    }\n",
       "\n",
       "    .dataframe thead th {\n",
       "        text-align: right;\n",
       "    }\n",
       "</style>\n",
       "<table border=\"1\" class=\"dataframe\">\n",
       "  <thead>\n",
       "    <tr style=\"text-align: right;\">\n",
       "      <th></th>\n",
       "      <th>ID</th>\n",
       "      <th>age_m</th>\n",
       "      <th>gender</th>\n",
       "      <th>hand</th>\n",
       "      <th>Raven</th>\n",
       "      <th>RuTOPP_3_NWR</th>\n",
       "      <th>Rythms_repeat</th>\n",
       "      <th>Rythms_instr</th>\n",
       "    </tr>\n",
       "  </thead>\n",
       "  <tbody>\n",
       "    <tr>\n",
       "      <th>0</th>\n",
       "      <td>A06</td>\n",
       "      <td>68</td>\n",
       "      <td>f</td>\n",
       "      <td>левша</td>\n",
       "      <td>26</td>\n",
       "      <td>0.83</td>\n",
       "      <td>0.90</td>\n",
       "      <td>1.0</td>\n",
       "    </tr>\n",
       "    <tr>\n",
       "      <th>1</th>\n",
       "      <td>T03</td>\n",
       "      <td>70</td>\n",
       "      <td>f</td>\n",
       "      <td>правша</td>\n",
       "      <td>29</td>\n",
       "      <td>0.75</td>\n",
       "      <td>0.95</td>\n",
       "      <td>1.0</td>\n",
       "    </tr>\n",
       "    <tr>\n",
       "      <th>2</th>\n",
       "      <td>A01</td>\n",
       "      <td>71</td>\n",
       "      <td>f</td>\n",
       "      <td>правша</td>\n",
       "      <td>13</td>\n",
       "      <td>0.58</td>\n",
       "      <td>0.90</td>\n",
       "      <td>0.5</td>\n",
       "    </tr>\n",
       "    <tr>\n",
       "      <th>3</th>\n",
       "      <td>T15</td>\n",
       "      <td>73</td>\n",
       "      <td>f</td>\n",
       "      <td>левша</td>\n",
       "      <td>22</td>\n",
       "      <td>0.87</td>\n",
       "      <td>0.95</td>\n",
       "      <td>1.0</td>\n",
       "    </tr>\n",
       "  </tbody>\n",
       "</table>\n",
       "</div>"
      ],
      "text/plain": [
       "    ID  age_m gender    hand  Raven  RuTOPP_3_NWR  Rythms_repeat  Rythms_instr\n",
       "0  A06     68      f   левша     26          0.83           0.90           1.0\n",
       "1  T03     70      f  правша     29          0.75           0.95           1.0\n",
       "2  A01     71      f  правша     13          0.58           0.90           0.5\n",
       "3  T15     73      f   левша     22          0.87           0.95           1.0"
      ]
     },
     "execution_count": 5,
     "metadata": {},
     "output_type": "execute_result"
    }
   ],
   "source": [
    "df_f1 = pd.read_csv(\"data_anya_f1.csv\") \n",
    "df_f1"
   ]
  },
  {
   "cell_type": "code",
   "execution_count": 10,
   "metadata": {},
   "outputs": [
    {
     "name": "stdout",
     "output_type": "stream",
     "text": [
      "68\n",
      "73\n",
      "70.5\n",
      "1.8027756377319946\n"
     ]
    }
   ],
   "source": [
    "descript(df_f1[\"age_m\"])"
   ]
  },
  {
   "cell_type": "code",
   "execution_count": 141,
   "metadata": {},
   "outputs": [],
   "source": [
    "xf1 = df_f1['RuTOPP_3_NWR'] #повторение псевдослов\n",
    "yf1 = df_f1['Rythms_repeat'] #повторение ритмов\n",
    "zf1 = df_f1['Rythms_instr'] #ритмы по инструкции"
   ]
  },
  {
   "cell_type": "markdown",
   "metadata": {},
   "source": [
    "тест Шапиро-Уилка:"
   ]
  },
  {
   "cell_type": "code",
   "execution_count": 143,
   "metadata": {},
   "outputs": [
    {
     "name": "stdout",
     "output_type": "stream",
     "text": [
      "ShapiroResult(statistic=0.9136841893196106, pvalue=0.5021380186080933)\n",
      "Sample looks Gaussian\n",
      "ShapiroResult(statistic=0.7286342978477478, pvalue=0.023856863379478455)\n",
      "Sample does not look Gaussian\n",
      "ShapiroResult(statistic=0.6297762393951416, pvalue=0.0012407235335558653)\n",
      "Sample does not look Gaussian\n"
     ]
    }
   ],
   "source": [
    "for i in [xf1, yf1, zf1]:\n",
    "    print(stats.shapiro(i))\n",
    "    if stats.shapiro(i)[1] > 0.05:\n",
    "        print(\"Sample looks Gaussian\")\n",
    "    else:\n",
    "        print(\"Sample does not look Gaussian\")"
   ]
  },
  {
   "cell_type": "markdown",
   "metadata": {},
   "source": [
    "Проверка корреляции:"
   ]
  },
  {
   "cell_type": "code",
   "execution_count": 144,
   "metadata": {},
   "outputs": [
    {
     "data": {
      "text/plain": [
       "SpearmanrResult(correlation=0.4472135954999579, pvalue=0.552786404500042)"
      ]
     },
     "execution_count": 144,
     "metadata": {},
     "output_type": "execute_result"
    }
   ],
   "source": [
    "stats.spearmanr(xf1, yf1)"
   ]
  },
  {
   "cell_type": "code",
   "execution_count": 145,
   "metadata": {},
   "outputs": [
    {
     "data": {
      "text/plain": [
       "SpearmanrResult(correlation=0.7745966692414834, pvalue=0.22540333075851657)"
      ]
     },
     "execution_count": 145,
     "metadata": {},
     "output_type": "execute_result"
    }
   ],
   "source": [
    "stats.spearmanr(xf1, zf1)"
   ]
  },
  {
   "cell_type": "markdown",
   "metadata": {},
   "source": [
    "старшая возрастная группа, девочки"
   ]
  },
  {
   "cell_type": "code",
   "execution_count": 11,
   "metadata": {},
   "outputs": [
    {
     "data": {
      "text/html": [
       "<div>\n",
       "<style scoped>\n",
       "    .dataframe tbody tr th:only-of-type {\n",
       "        vertical-align: middle;\n",
       "    }\n",
       "\n",
       "    .dataframe tbody tr th {\n",
       "        vertical-align: top;\n",
       "    }\n",
       "\n",
       "    .dataframe thead th {\n",
       "        text-align: right;\n",
       "    }\n",
       "</style>\n",
       "<table border=\"1\" class=\"dataframe\">\n",
       "  <thead>\n",
       "    <tr style=\"text-align: right;\">\n",
       "      <th></th>\n",
       "      <th>ID</th>\n",
       "      <th>age_m</th>\n",
       "      <th>gender</th>\n",
       "      <th>hand</th>\n",
       "      <th>Raven</th>\n",
       "      <th>RuTOPP_3_NWR</th>\n",
       "      <th>Rythms_repeat</th>\n",
       "      <th>Rythms_instr</th>\n",
       "    </tr>\n",
       "  </thead>\n",
       "  <tbody>\n",
       "    <tr>\n",
       "      <th>0</th>\n",
       "      <td>T08</td>\n",
       "      <td>76</td>\n",
       "      <td>f</td>\n",
       "      <td>правша</td>\n",
       "      <td>12</td>\n",
       "      <td>0.83</td>\n",
       "      <td>0.85</td>\n",
       "      <td>1.00</td>\n",
       "    </tr>\n",
       "    <tr>\n",
       "      <th>1</th>\n",
       "      <td>A03</td>\n",
       "      <td>76</td>\n",
       "      <td>f</td>\n",
       "      <td>правша</td>\n",
       "      <td>19</td>\n",
       "      <td>0.91</td>\n",
       "      <td>0.95</td>\n",
       "      <td>1.00</td>\n",
       "    </tr>\n",
       "    <tr>\n",
       "      <th>2</th>\n",
       "      <td>A13</td>\n",
       "      <td>77</td>\n",
       "      <td>f</td>\n",
       "      <td>правша</td>\n",
       "      <td>20</td>\n",
       "      <td>0.95</td>\n",
       "      <td>1.00</td>\n",
       "      <td>1.00</td>\n",
       "    </tr>\n",
       "    <tr>\n",
       "      <th>3</th>\n",
       "      <td>A14</td>\n",
       "      <td>77</td>\n",
       "      <td>f</td>\n",
       "      <td>левша</td>\n",
       "      <td>19</td>\n",
       "      <td>0.75</td>\n",
       "      <td>0.70</td>\n",
       "      <td>1.00</td>\n",
       "    </tr>\n",
       "    <tr>\n",
       "      <th>4</th>\n",
       "      <td>A16</td>\n",
       "      <td>78</td>\n",
       "      <td>f</td>\n",
       "      <td>правша</td>\n",
       "      <td>30</td>\n",
       "      <td>0.75</td>\n",
       "      <td>0.90</td>\n",
       "      <td>0.85</td>\n",
       "    </tr>\n",
       "    <tr>\n",
       "      <th>5</th>\n",
       "      <td>A15</td>\n",
       "      <td>83</td>\n",
       "      <td>f</td>\n",
       "      <td>правша</td>\n",
       "      <td>32</td>\n",
       "      <td>0.87</td>\n",
       "      <td>1.00</td>\n",
       "      <td>1.00</td>\n",
       "    </tr>\n",
       "  </tbody>\n",
       "</table>\n",
       "</div>"
      ],
      "text/plain": [
       "    ID  age_m gender    hand  Raven  RuTOPP_3_NWR  Rythms_repeat  Rythms_instr\n",
       "0  T08     76      f  правша     12          0.83           0.85          1.00\n",
       "1  A03     76      f  правша     19          0.91           0.95          1.00\n",
       "2  A13     77      f  правша     20          0.95           1.00          1.00\n",
       "3  A14     77      f   левша     19          0.75           0.70          1.00\n",
       "4  A16     78      f  правша     30          0.75           0.90          0.85\n",
       "5  A15     83      f  правша     32          0.87           1.00          1.00"
      ]
     },
     "execution_count": 11,
     "metadata": {},
     "output_type": "execute_result"
    }
   ],
   "source": [
    "df_f2 = pd.read_csv(\"data_anya_f2.csv\") \n",
    "df_f2"
   ]
  },
  {
   "cell_type": "code",
   "execution_count": 12,
   "metadata": {},
   "outputs": [
    {
     "name": "stdout",
     "output_type": "stream",
     "text": [
      "76\n",
      "83\n",
      "77.83333333333333\n",
      "2.4094720491334933\n"
     ]
    }
   ],
   "source": [
    "descript(df_f2[\"age_m\"])"
   ]
  },
  {
   "cell_type": "code",
   "execution_count": 151,
   "metadata": {},
   "outputs": [],
   "source": [
    "xf2 = df_f2['RuTOPP_3_NWR'] #повторение псевдослов\n",
    "yf2 = df_f2['Rythms_repeat'] #повторение ритмов\n",
    "zf2 = df_f2['Rythms_instr'] #ритмы по инструкции"
   ]
  },
  {
   "cell_type": "markdown",
   "metadata": {},
   "source": [
    "тест Шапиро-Уилка:"
   ]
  },
  {
   "cell_type": "code",
   "execution_count": 154,
   "metadata": {},
   "outputs": [
    {
     "name": "stdout",
     "output_type": "stream",
     "text": [
      "ShapiroResult(statistic=0.9182394742965698, pvalue=0.49277225136756897)\n",
      "Sample looks Gaussian\n",
      "ShapiroResult(statistic=0.8818086385726929, pvalue=0.27746614813804626)\n",
      "Sample looks Gaussian\n",
      "ShapiroResult(statistic=0.49609440565109253, pvalue=2.072923962259665e-05)\n",
      "Sample does not look Gaussian\n"
     ]
    }
   ],
   "source": [
    "for i in [xf2, yf2, zf2]:\n",
    "    print(stats.shapiro(i))\n",
    "    if stats.shapiro(i)[1] > 0.05:\n",
    "        print(\"Sample looks Gaussian\")\n",
    "    else:\n",
    "        print(\"Sample does not look Gaussian\")"
   ]
  },
  {
   "cell_type": "markdown",
   "metadata": {},
   "source": [
    "проверка корреляции:"
   ]
  },
  {
   "cell_type": "code",
   "execution_count": 155,
   "metadata": {},
   "outputs": [
    {
     "data": {
      "text/plain": [
       "SpearmanrResult(correlation=0.7941176470588236, pvalue=0.059217891308772586)"
      ]
     },
     "execution_count": 155,
     "metadata": {},
     "output_type": "execute_result"
    }
   ],
   "source": [
    "stats.spearmanr(xf2, yf2)"
   ]
  },
  {
   "cell_type": "code",
   "execution_count": 156,
   "metadata": {},
   "outputs": [
    {
     "data": {
      "text/plain": [
       "SpearmanrResult(correlation=0.5313689313240573, pvalue=0.27796339331848685)"
      ]
     },
     "execution_count": 156,
     "metadata": {},
     "output_type": "execute_result"
    }
   ],
   "source": [
    "stats.spearmanr(xf2, zf2)"
   ]
  },
  {
   "cell_type": "markdown",
   "metadata": {},
   "source": [
    "младшая возрастная группа, мальчики:"
   ]
  },
  {
   "cell_type": "code",
   "execution_count": 13,
   "metadata": {},
   "outputs": [
    {
     "data": {
      "text/html": [
       "<div>\n",
       "<style scoped>\n",
       "    .dataframe tbody tr th:only-of-type {\n",
       "        vertical-align: middle;\n",
       "    }\n",
       "\n",
       "    .dataframe tbody tr th {\n",
       "        vertical-align: top;\n",
       "    }\n",
       "\n",
       "    .dataframe thead th {\n",
       "        text-align: right;\n",
       "    }\n",
       "</style>\n",
       "<table border=\"1\" class=\"dataframe\">\n",
       "  <thead>\n",
       "    <tr style=\"text-align: right;\">\n",
       "      <th></th>\n",
       "      <th>ID</th>\n",
       "      <th>age_m</th>\n",
       "      <th>gender</th>\n",
       "      <th>hand</th>\n",
       "      <th>Raven</th>\n",
       "      <th>RuTOPP_3_NWR</th>\n",
       "      <th>Rythms_repeat</th>\n",
       "      <th>Rythms_instr</th>\n",
       "    </tr>\n",
       "  </thead>\n",
       "  <tbody>\n",
       "    <tr>\n",
       "      <th>0</th>\n",
       "      <td>A07</td>\n",
       "      <td>70</td>\n",
       "      <td>m</td>\n",
       "      <td>правша</td>\n",
       "      <td>18</td>\n",
       "      <td>0.79</td>\n",
       "      <td>0.950</td>\n",
       "      <td>0.6</td>\n",
       "    </tr>\n",
       "    <tr>\n",
       "      <th>1</th>\n",
       "      <td>T13</td>\n",
       "      <td>70</td>\n",
       "      <td>m</td>\n",
       "      <td>правша</td>\n",
       "      <td>23</td>\n",
       "      <td>0.58</td>\n",
       "      <td>0.800</td>\n",
       "      <td>1.0</td>\n",
       "    </tr>\n",
       "    <tr>\n",
       "      <th>2</th>\n",
       "      <td>T16</td>\n",
       "      <td>70</td>\n",
       "      <td>m</td>\n",
       "      <td>правша</td>\n",
       "      <td>25,5</td>\n",
       "      <td>0.79</td>\n",
       "      <td>0.975</td>\n",
       "      <td>1.0</td>\n",
       "    </tr>\n",
       "    <tr>\n",
       "      <th>3</th>\n",
       "      <td>S02</td>\n",
       "      <td>71</td>\n",
       "      <td>m</td>\n",
       "      <td>правша</td>\n",
       "      <td>23</td>\n",
       "      <td>0.78</td>\n",
       "      <td>0.900</td>\n",
       "      <td>0.9</td>\n",
       "    </tr>\n",
       "    <tr>\n",
       "      <th>4</th>\n",
       "      <td>A05</td>\n",
       "      <td>71</td>\n",
       "      <td>m</td>\n",
       "      <td>правша</td>\n",
       "      <td>22</td>\n",
       "      <td>0.83</td>\n",
       "      <td>1.000</td>\n",
       "      <td>1.0</td>\n",
       "    </tr>\n",
       "    <tr>\n",
       "      <th>5</th>\n",
       "      <td>А12</td>\n",
       "      <td>71</td>\n",
       "      <td>m</td>\n",
       "      <td>правша</td>\n",
       "      <td>19</td>\n",
       "      <td>0.87</td>\n",
       "      <td>1.000</td>\n",
       "      <td>0.9</td>\n",
       "    </tr>\n",
       "    <tr>\n",
       "      <th>6</th>\n",
       "      <td>T17</td>\n",
       "      <td>71</td>\n",
       "      <td>m</td>\n",
       "      <td>левша</td>\n",
       "      <td>22</td>\n",
       "      <td>0.95</td>\n",
       "      <td>0.950</td>\n",
       "      <td>1.0</td>\n",
       "    </tr>\n",
       "    <tr>\n",
       "      <th>7</th>\n",
       "      <td>T11</td>\n",
       "      <td>72</td>\n",
       "      <td>m</td>\n",
       "      <td>правша</td>\n",
       "      <td>17</td>\n",
       "      <td>0.70</td>\n",
       "      <td>0.850</td>\n",
       "      <td>1.0</td>\n",
       "    </tr>\n",
       "    <tr>\n",
       "      <th>8</th>\n",
       "      <td>А11</td>\n",
       "      <td>73</td>\n",
       "      <td>m</td>\n",
       "      <td>амб</td>\n",
       "      <td>26</td>\n",
       "      <td>0.87</td>\n",
       "      <td>1.000</td>\n",
       "      <td>1.0</td>\n",
       "    </tr>\n",
       "    <tr>\n",
       "      <th>9</th>\n",
       "      <td>T02</td>\n",
       "      <td>74</td>\n",
       "      <td>m</td>\n",
       "      <td>амб</td>\n",
       "      <td>20</td>\n",
       "      <td>0.70</td>\n",
       "      <td>0.900</td>\n",
       "      <td>NaN</td>\n",
       "    </tr>\n",
       "    <tr>\n",
       "      <th>10</th>\n",
       "      <td>A04</td>\n",
       "      <td>74</td>\n",
       "      <td>m</td>\n",
       "      <td>правша</td>\n",
       "      <td>30</td>\n",
       "      <td>0.91</td>\n",
       "      <td>1.000</td>\n",
       "      <td>1.0</td>\n",
       "    </tr>\n",
       "  </tbody>\n",
       "</table>\n",
       "</div>"
      ],
      "text/plain": [
       "     ID  age_m gender    hand Raven  RuTOPP_3_NWR  Rythms_repeat  Rythms_instr\n",
       "0   A07     70      m  правша    18          0.79          0.950           0.6\n",
       "1   T13     70      m  правша    23          0.58          0.800           1.0\n",
       "2   T16     70      m  правша  25,5          0.79          0.975           1.0\n",
       "3   S02     71      m  правша    23          0.78          0.900           0.9\n",
       "4   A05     71      m  правша    22          0.83          1.000           1.0\n",
       "5   А12     71      m  правша    19          0.87          1.000           0.9\n",
       "6   T17     71      m   левша    22          0.95          0.950           1.0\n",
       "7   T11     72      m  правша    17          0.70          0.850           1.0\n",
       "8   А11     73      m     амб    26          0.87          1.000           1.0\n",
       "9   T02     74      m     амб    20          0.70          0.900           NaN\n",
       "10  A04     74      m  правша    30          0.91          1.000           1.0"
      ]
     },
     "execution_count": 13,
     "metadata": {},
     "output_type": "execute_result"
    }
   ],
   "source": [
    "df_m1 = pd.read_csv(\"data_anya_m1.csv\") \n",
    "df_m1"
   ]
  },
  {
   "cell_type": "code",
   "execution_count": 14,
   "metadata": {},
   "outputs": [
    {
     "name": "stdout",
     "output_type": "stream",
     "text": [
      "70\n",
      "74\n",
      "71.54545454545455\n",
      "1.4373989364401725\n"
     ]
    }
   ],
   "source": [
    "descript(df_m1[\"age_m\"])"
   ]
  },
  {
   "cell_type": "code",
   "execution_count": 159,
   "metadata": {},
   "outputs": [],
   "source": [
    "xm1 = df_m1['RuTOPP_3_NWR'] #повторение псевдослов\n",
    "ym1 = df_m1['Rythms_repeat'] #повторение ритмов\n",
    "zm1 = df_m1['Rythms_instr'] #ритмы по инструкции"
   ]
  },
  {
   "cell_type": "markdown",
   "metadata": {},
   "source": [
    "тест Шапиро-Уилка:"
   ]
  },
  {
   "cell_type": "code",
   "execution_count": 160,
   "metadata": {},
   "outputs": [
    {
     "name": "stdout",
     "output_type": "stream",
     "text": [
      "ShapiroResult(statistic=0.9588356614112854, pvalue=0.7570823431015015)\n",
      "Sample looks Gaussian\n",
      "ShapiroResult(statistic=0.8599123954772949, pvalue=0.05743229389190674)\n",
      "Sample looks Gaussian\n",
      "ShapiroResult(statistic=0.5593926310539246, pvalue=1.8212775103165768e-05)\n",
      "Sample does not look Gaussian\n"
     ]
    }
   ],
   "source": [
    "for i in [xm1, ym1, zm1.dropna()]:\n",
    "    print(stats.shapiro(i))\n",
    "    if stats.shapiro(i)[1] > 0.05:\n",
    "        print(\"Sample looks Gaussian\")\n",
    "    else:\n",
    "        print(\"Sample does not look Gaussian\")"
   ]
  },
  {
   "cell_type": "markdown",
   "metadata": {},
   "source": [
    "проверка корреляции:"
   ]
  },
  {
   "cell_type": "code",
   "execution_count": 161,
   "metadata": {},
   "outputs": [
    {
     "data": {
      "text/plain": [
       "SpearmanrResult(correlation=0.8001794375154963, pvalue=0.0030987497887244885)"
      ]
     },
     "execution_count": 161,
     "metadata": {},
     "output_type": "execute_result"
    }
   ],
   "source": [
    "stats.spearmanr(xm1, ym1)"
   ]
  },
  {
   "cell_type": "code",
   "execution_count": 162,
   "metadata": {},
   "outputs": [
    {
     "data": {
      "text/plain": [
       "SpearmanrResult(correlation=0.12435929870268703, pvalue=0.7321322397468482)"
      ]
     },
     "execution_count": 162,
     "metadata": {},
     "output_type": "execute_result"
    }
   ],
   "source": [
    "stats.spearmanr(xm1.drop(9), zm1.dropna())"
   ]
  },
  {
   "cell_type": "markdown",
   "metadata": {},
   "source": [
    "старшая возрастная группа, мальчики:"
   ]
  },
  {
   "cell_type": "code",
   "execution_count": 15,
   "metadata": {},
   "outputs": [
    {
     "data": {
      "text/html": [
       "<div>\n",
       "<style scoped>\n",
       "    .dataframe tbody tr th:only-of-type {\n",
       "        vertical-align: middle;\n",
       "    }\n",
       "\n",
       "    .dataframe tbody tr th {\n",
       "        vertical-align: top;\n",
       "    }\n",
       "\n",
       "    .dataframe thead th {\n",
       "        text-align: right;\n",
       "    }\n",
       "</style>\n",
       "<table border=\"1\" class=\"dataframe\">\n",
       "  <thead>\n",
       "    <tr style=\"text-align: right;\">\n",
       "      <th></th>\n",
       "      <th>ID</th>\n",
       "      <th>age_m</th>\n",
       "      <th>gender</th>\n",
       "      <th>hand</th>\n",
       "      <th>Raven</th>\n",
       "      <th>RuTOPP_3_NWR</th>\n",
       "      <th>Rythms_repeat</th>\n",
       "      <th>Rythms_instr</th>\n",
       "    </tr>\n",
       "  </thead>\n",
       "  <tbody>\n",
       "    <tr>\n",
       "      <th>0</th>\n",
       "      <td>T09</td>\n",
       "      <td>76</td>\n",
       "      <td>m</td>\n",
       "      <td>левша</td>\n",
       "      <td>19</td>\n",
       "      <td>0.75</td>\n",
       "      <td>0.900</td>\n",
       "      <td>1.0</td>\n",
       "    </tr>\n",
       "    <tr>\n",
       "      <th>1</th>\n",
       "      <td>A08</td>\n",
       "      <td>76</td>\n",
       "      <td>m</td>\n",
       "      <td>амб</td>\n",
       "      <td>21</td>\n",
       "      <td>0.83</td>\n",
       "      <td>0.900</td>\n",
       "      <td>1.0</td>\n",
       "    </tr>\n",
       "    <tr>\n",
       "      <th>2</th>\n",
       "      <td>T14</td>\n",
       "      <td>78</td>\n",
       "      <td>m</td>\n",
       "      <td>правша</td>\n",
       "      <td>17</td>\n",
       "      <td>0.75</td>\n",
       "      <td>0.950</td>\n",
       "      <td>1.0</td>\n",
       "    </tr>\n",
       "    <tr>\n",
       "      <th>3</th>\n",
       "      <td>T06</td>\n",
       "      <td>80</td>\n",
       "      <td>m</td>\n",
       "      <td>правша</td>\n",
       "      <td>26</td>\n",
       "      <td>0.91</td>\n",
       "      <td>0.900</td>\n",
       "      <td>1.0</td>\n",
       "    </tr>\n",
       "    <tr>\n",
       "      <th>4</th>\n",
       "      <td>A10</td>\n",
       "      <td>80</td>\n",
       "      <td>m</td>\n",
       "      <td>правша</td>\n",
       "      <td>32</td>\n",
       "      <td>0.87</td>\n",
       "      <td>1.000</td>\n",
       "      <td>1.0</td>\n",
       "    </tr>\n",
       "    <tr>\n",
       "      <th>5</th>\n",
       "      <td>A17</td>\n",
       "      <td>80</td>\n",
       "      <td>m</td>\n",
       "      <td>амб</td>\n",
       "      <td>21</td>\n",
       "      <td>0.83</td>\n",
       "      <td>0.950</td>\n",
       "      <td>1.0</td>\n",
       "    </tr>\n",
       "    <tr>\n",
       "      <th>6</th>\n",
       "      <td>T10</td>\n",
       "      <td>81</td>\n",
       "      <td>m</td>\n",
       "      <td>правша</td>\n",
       "      <td>27</td>\n",
       "      <td>0.91</td>\n",
       "      <td>0.575</td>\n",
       "      <td>0.7</td>\n",
       "    </tr>\n",
       "    <tr>\n",
       "      <th>7</th>\n",
       "      <td>A02</td>\n",
       "      <td>83</td>\n",
       "      <td>m</td>\n",
       "      <td>правша</td>\n",
       "      <td>24</td>\n",
       "      <td>0.79</td>\n",
       "      <td>0.900</td>\n",
       "      <td>0.7</td>\n",
       "    </tr>\n",
       "    <tr>\n",
       "      <th>8</th>\n",
       "      <td>T05</td>\n",
       "      <td>83</td>\n",
       "      <td>m</td>\n",
       "      <td>правша</td>\n",
       "      <td>30</td>\n",
       "      <td>0.66</td>\n",
       "      <td>1.000</td>\n",
       "      <td>1.0</td>\n",
       "    </tr>\n",
       "  </tbody>\n",
       "</table>\n",
       "</div>"
      ],
      "text/plain": [
       "     ID  age_m gender     hand  Raven  RuTOPP_3_NWR  Rythms_repeat  \\\n",
       "0   T09     76      m    левша     19          0.75          0.900   \n",
       "1   A08     76      m      амб     21          0.83          0.900   \n",
       "2   T14     78      m   правша     17          0.75          0.950   \n",
       "3   T06     80      m   правша     26          0.91          0.900   \n",
       "4   A10     80      m   правша     32          0.87          1.000   \n",
       "5  A17      80      m      амб     21          0.83          0.950   \n",
       "6   T10     81      m   правша     27          0.91          0.575   \n",
       "7   A02     83      m   правша     24          0.79          0.900   \n",
       "8   T05     83      m  правша      30          0.66          1.000   \n",
       "\n",
       "   Rythms_instr  \n",
       "0           1.0  \n",
       "1           1.0  \n",
       "2           1.0  \n",
       "3           1.0  \n",
       "4           1.0  \n",
       "5           1.0  \n",
       "6           0.7  \n",
       "7           0.7  \n",
       "8           1.0  "
      ]
     },
     "execution_count": 15,
     "metadata": {},
     "output_type": "execute_result"
    }
   ],
   "source": [
    "df_m2 = pd.read_csv(\"data_anya_m2.csv\") \n",
    "df_m2"
   ]
  },
  {
   "cell_type": "code",
   "execution_count": 16,
   "metadata": {},
   "outputs": [
    {
     "name": "stdout",
     "output_type": "stream",
     "text": [
      "76\n",
      "83\n",
      "79.66666666666667\n",
      "2.449489742783178\n"
     ]
    }
   ],
   "source": [
    "descript(df_m2[\"age_m\"])"
   ]
  },
  {
   "cell_type": "code",
   "execution_count": 165,
   "metadata": {},
   "outputs": [],
   "source": [
    "xm2 = df_m2['RuTOPP_3_NWR'] #повторение псевдослов\n",
    "ym2 = df_m2['Rythms_repeat'] #повторение ритмов\n",
    "zm2 = df_m2['Rythms_instr'] #ритмы по инструкции"
   ]
  },
  {
   "cell_type": "markdown",
   "metadata": {},
   "source": [
    "тест Шапиро-Уилка:"
   ]
  },
  {
   "cell_type": "code",
   "execution_count": 170,
   "metadata": {},
   "outputs": [
    {
     "name": "stdout",
     "output_type": "stream",
     "text": [
      "ShapiroResult(statistic=0.9426416754722595, pvalue=0.6099658608436584)\n",
      "Sample looks Gaussian\n",
      "ShapiroResult(statistic=0.6768932342529297, pvalue=0.0007620541146025062)\n",
      "Sample does not look Gaussian\n",
      "ShapiroResult(statistic=0.5358099341392517, pvalue=1.6860218238434754e-05)\n",
      "Sample does not look Gaussian\n"
     ]
    }
   ],
   "source": [
    "for i in [xm2, ym2, zm2]:\n",
    "    print(stats.shapiro(i))\n",
    "    if stats.shapiro(i)[1] > 0.05:\n",
    "        print(\"Sample looks Gaussian\")\n",
    "    else:\n",
    "        print(\"Sample does not look Gaussian\")"
   ]
  },
  {
   "cell_type": "markdown",
   "metadata": {},
   "source": [
    "проверка корреляции:"
   ]
  },
  {
   "cell_type": "code",
   "execution_count": 168,
   "metadata": {},
   "outputs": [
    {
     "data": {
      "text/plain": [
       "SpearmanrResult(correlation=-0.4403524229639896, pvalue=0.23553060668414494)"
      ]
     },
     "execution_count": 168,
     "metadata": {},
     "output_type": "execute_result"
    }
   ],
   "source": [
    "stats.spearmanr(xm2, ym2)"
   ]
  },
  {
   "cell_type": "code",
   "execution_count": 169,
   "metadata": {},
   "outputs": [
    {
     "data": {
      "text/plain": [
       "SpearmanrResult(correlation=-0.26207120918047955, pvalue=0.4957330107678882)"
      ]
     },
     "execution_count": 169,
     "metadata": {},
     "output_type": "execute_result"
    }
   ],
   "source": [
    "stats.spearmanr(xm2, zm2)"
   ]
  }
 ],
 "metadata": {
  "kernelspec": {
   "display_name": "Python 3",
   "language": "python",
   "name": "python3"
  },
  "language_info": {
   "codemirror_mode": {
    "name": "ipython",
    "version": 3
   },
   "file_extension": ".py",
   "mimetype": "text/x-python",
   "name": "python",
   "nbconvert_exporter": "python",
   "pygments_lexer": "ipython3",
   "version": "3.8.5"
  }
 },
 "nbformat": 4,
 "nbformat_minor": 4
}
